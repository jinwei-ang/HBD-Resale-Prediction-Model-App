{
 "metadata": {
  "language_info": {
   "codemirror_mode": {
    "name": "ipython",
    "version": 3
   },
   "file_extension": ".py",
   "mimetype": "text/x-python",
   "name": "python",
   "nbconvert_exporter": "python",
   "pygments_lexer": "ipython3",
   "version": "3.8.5"
  },
  "orig_nbformat": 4,
  "kernelspec": {
   "name": "python3",
   "display_name": "Python 3.8.5 64-bit ('base': conda)"
  },
  "interpreter": {
   "hash": "b3ba2566441a7c06988d0923437866b63cedc61552a5af99d1f4fb67d367b25f"
  }
 },
 "nbformat": 4,
 "nbformat_minor": 2,
 "cells": [
  {
   "cell_type": "code",
   "execution_count": null,
   "metadata": {},
   "outputs": [],
   "source": [
    "import pandas as pd\n",
    "import numpy as np\n",
    "import matplotlib.pyplot as plt\n",
    "import seaborn as sns\n",
    "from datetime import datetime as dt"
   ]
  },
  {
   "source": [
    "# Load Data"
   ],
   "cell_type": "markdown",
   "metadata": {}
  },
  {
   "cell_type": "code",
   "execution_count": null,
   "metadata": {},
   "outputs": [],
   "source": [
    "price1999 = pd.read_csv('data_gov/resale-flat-prices-based-on-approval-date-1990-1999.csv')\n",
    "price2012 = pd.read_csv('data_gov/resale-flat-prices-based-on-approval-date-2000-feb-2012.csv')\n",
    "price2014 = pd.read_csv('data_gov/resale-flat-prices-based-on-registration-date-from-mar-2012-to-dec-2014.csv')\n",
    "price2016 = pd.read_csv('data_gov/resale-flat-prices-based-on-registration-date-from-jan-2015-to-dec-2016.csv')\n",
    "price2017 = pd.read_csv('data_gov/resale-flat-prices-based-on-registration-date-from-jan-2017-onwards.csv')\n",
    "cpi = pd.read_csv('data_other/CPI_apr2021.csv')"
   ]
  },
  {
   "cell_type": "code",
   "execution_count": null,
   "metadata": {},
   "outputs": [],
   "source": [
    "# Merge dfs\n",
    "prices = pd.concat([price1999, price2012, price2014], sort=False)\n",
    "prices = pd.concat([prices, price2016, price2017], axis=0, ignore_index=True, sort=False)\n",
    "\n",
    "prices['month'] = pd.to_datetime(prices['month']) # to datetime\n",
    "\n",
    "prices.info()"
   ]
  },
  {
   "cell_type": "code",
   "execution_count": null,
   "metadata": {},
   "outputs": [],
   "source": [
    "prices[~prices.isnull().any(axis=1)]['month'].dt.year.unique()"
   ]
  },
  {
   "cell_type": "code",
   "execution_count": null,
   "metadata": {},
   "outputs": [],
   "source": [
    "# Clean flat type\n",
    "prices['flat_type'] = prices['flat_type'].str.replace('MULTI-GENERATION', 'MULTI GENERATION')\n",
    "prices['flat_type'].unique()"
   ]
  },
  {
   "cell_type": "code",
   "execution_count": null,
   "metadata": {},
   "outputs": [],
   "source": [
    "# Rename flat model duplicates\n",
    "replace_values = {'NEW GENERATION':'New Generation', 'SIMPLIFIED':'Simplified', 'STANDARD':'Standard', 'MODEL A-MAISONETTE':'Maisonette', 'MULTI GENERATION':'Multi Generation', 'IMPROVED-MAISONETTE':'Executive Maisonette', 'Improved-Maisonette':'Executive Maisonette', 'Premium Maisonette':'Executive Maisonette', '2-ROOM':'2-room', 'MODEL A':'Model A', 'MAISONETTE':'Maisonette', 'Model A-Maisonette':'Maisonette', 'IMPROVED':'Improved', 'TERRACE':'Terrace', 'PREMIUM APARTMENT':'Premium Apartment', 'Premium Apartment Loft':'Premium Apartment', 'APARTMENT':'Apartment', 'Type S1':'Type S1S2', 'Type S2':'Type S1S2'}\n",
    "\n",
    "prices = prices.replace({'flat_model': replace_values})\n",
    "\n",
    "prices['flat_model'].value_counts()"
   ]
  },
  {
   "cell_type": "code",
   "execution_count": null,
   "metadata": {},
   "outputs": [],
   "source": [
    "prices['storey_range'].unique()"
   ]
  },
  {
   "cell_type": "code",
   "execution_count": null,
   "metadata": {},
   "outputs": [],
   "source": [
    "prices['town'].unique()"
   ]
  },
  {
   "cell_type": "code",
   "execution_count": null,
   "metadata": {},
   "outputs": [],
   "source": [
    "plt.hist(prices['floor_area_sqm'], bins=50, edgecolor='black')\n",
    "plt.title('Distribution of HDB Floor Area')\n",
    "plt.show()\n",
    "display(prices[prices['floor_area_sqm'] > 200]['flat_model'].value_counts())"
   ]
  },
  {
   "cell_type": "code",
   "execution_count": null,
   "metadata": {},
   "outputs": [],
   "source": [
    "bins = prices['lease_commence_date'].max() - prices['lease_commence_date'].min()\n",
    "plt.hist(prices['lease_commence_date'], bins=bins, edgecolor='black')\n",
    "plt.title('Distribution of Lease Commence Year')\n",
    "plt.show()"
   ]
  },
  {
   "source": [
    "# Inflation Adjustment Using CPI"
   ],
   "cell_type": "markdown",
   "metadata": {}
  },
  {
   "cell_type": "code",
   "execution_count": null,
   "metadata": {},
   "outputs": [],
   "source": [
    "# Compute Resale Price Adjusted for Inflation Using Consumer Price Index for Housing & Utilities\n",
    "# https://www.singstat.gov.sg/find-data/search-by-theme/economy/prices-and-price-indices/latest-data\n",
    "cpi['month'] = pd.to_datetime(cpi['month'], format='%Y %b') # to datetime\n",
    "prices = prices.merge(cpi, on='month', how='left') \n",
    "# https://people.duke.edu/~rnau/411infla.htm\n",
    "prices['real_price'] = (prices['resale_price'] / prices['cpi']) * 100"
   ]
  },
  {
   "cell_type": "code",
   "execution_count": null,
   "metadata": {},
   "outputs": [],
   "source": [
    "# Plot Median Resale Prices Over the Years\n",
    "\n",
    "# Unadjusted\n",
    "fig = plt.figure(figsize=(14,4.5))\n",
    "fig.suptitle('Median HDB Resale Prices Over the Years', fontsize=18)\n",
    "ax1 = fig.add_subplot(121)\n",
    "prices.groupby('month')[['resale_price']].median().plot(ax=ax1, color='#00cef6', legend=None)\n",
    "ax1.set_xlabel('Date'), ax1.set_ylabel('Resale Price in SGD ($)'), ax1.set_ylim(0, 500000), ax1.set_title('Unadjusted for Inflation', size=15)\n",
    "\n",
    "# Adjusted\n",
    "# https://jakevdp.github.io/PythonDataScienceHandbook/04.09-text-and-annotation.html\n",
    "ax2 = fig.add_subplot(122)\n",
    "prices.groupby('month')[['real_price']].median().plot(ax=ax2, color='#3c78d8', legend=None)\n",
    "ax2.set_xlabel('Date'), ax2.set_ylabel('Resale Price in SGD ($)'), ax2.set_ylim(0, 500000), ax2.set_title('Adjusted for Inflation to 2019 SGD',size=15)\n",
    "ax2.annotate('1997 Asian Financial Crisis\\nMedian: $403,766', xy=('1997-05-01',380000), xycoords='data', \n",
    "    bbox=dict(boxstyle=\"round4,pad=.5\", fc=\"none\", ec=\"#28324a\"), xytext=(50,-140), textcoords='offset points', ha='center',\n",
    "    arrowprops=dict(arrowstyle=\"->\", connectionstyle=\"angle,angleA=0,angleB=90,rad=20\"))\n",
    "ax2.annotate('2001 Dotcom Bubble Burst\\nMedian: $294,795', xy=('2001-10-01',280000), xycoords='data', \n",
    "    bbox=dict(boxstyle=\"round4,pad=.5\", fc=\"none\", ec=\"#28324a\"), xytext=(0,-50), textcoords='offset points', ha='center',\n",
    "    arrowprops=dict(arrowstyle=\"->\", connectionstyle=\"angle,angleA=0,angleB=90,rad=20\"))\n",
    "ax2.annotate('2008 Financial Crisis\\nMedian: $340,135', xy=('2008-12-01',380000), xycoords='data', \n",
    "    bbox=dict(boxstyle=\"round4,pad=.5\", fc=\"none\", ec=\"#28324a\"), xytext=(0,20), textcoords='offset points', ha='center',\n",
    "    arrowprops=dict(arrowstyle=\"->\", connectionstyle=\"angle,angleA=0,angleB=90,rad=20\"))\n",
    "ax2.annotate('2013 Cooling Measures\\nMedian: $401,887', xy=('2013-07-01',380000), xycoords='data', \n",
    "    bbox=dict(boxstyle=\"round4,pad=.5\", fc=\"none\", ec=\"#28324a\"), xytext=(0,-120), textcoords='offset points', ha='center',\n",
    "    arrowprops=dict(arrowstyle=\"->\", connectionstyle=\"angle,angleA=0,angleB=90,rad=20\"))\n",
    "ax2.annotate('2019 Covid19\\nMedian: $401,769', xy=('2019-12-01',380000), xycoords='data', \n",
    "    bbox=dict(boxstyle=\"round4,pad=.5\", fc=\"none\", ec=\"#28324a\"), xytext=(0,-90), textcoords='offset points', ha='center',\n",
    "    arrowprops=dict(arrowstyle=\"->\", connectionstyle=\"angle,angleA=0,angleB=90,rad=20\"))  \n",
    "plt.tight_layout(rect=[0, 0, 0.9, 0.9]) \n",
    "# for ax, color in zip([ax1, ax2], ['#3c78d8', '#3c78d8']):\n",
    "#     plt.setp(tuple(ax.spines.values()), color=color)\n",
    "#     plt.setp([ax.get_xticklines(), ax.get_yticklines()], color=color)\n",
    "plt.show()\n",
    "#prices.set_index('month').loc['1997']['real_price'].median()"
   ]
  },
  {
   "cell_type": "code",
   "execution_count": null,
   "metadata": {},
   "outputs": [],
   "source": [
    "# Convert remaining_lease to number of years\n",
    "def getYears(text):\n",
    "    if isinstance(text, str):\n",
    "        yearmonth = [int(s) for s in text.split() if s.isdigit()]\n",
    "        if len(yearmonth) > 1: # if there's year and month\n",
    "            years = yearmonth[0] + (yearmonth[1]/12)\n",
    "        else: # if only year\n",
    "            years = yearmonth[0]\n",
    "        return years\n",
    "    else: # if int\n",
    "        return text\n",
    "\n",
    "prices['remaining_lease'] = prices['remaining_lease'].apply(lambda x: getYears(x))"
   ]
  },
  {
   "cell_type": "code",
   "execution_count": null,
   "metadata": {},
   "outputs": [],
   "source": [
    "prices.info()"
   ]
  },
  {
   "cell_type": "code",
   "execution_count": null,
   "metadata": {},
   "outputs": [],
   "source": [
    "bins = prices['remaining_lease'].max() - prices['remaining_lease'].min()\n",
    "plt.hist(prices['remaining_lease'], bins=int(bins), edgecolor='black')\n",
    "plt.title('Distribution of Remaining Lease for 2016-2020 Data')\n",
    "plt.show()"
   ]
  },
  {
   "source": [
    "# Data Analysis"
   ],
   "cell_type": "markdown",
   "metadata": {}
  },
  {
   "cell_type": "code",
   "execution_count": null,
   "metadata": {},
   "outputs": [],
   "source": [
    "## Waffle chart for flat type - number of rooms\n",
    "from pywaffle import  Waffle\n",
    "\n",
    "flattype = dict(prices['flat_type'].value_counts()/len(prices)*100)\n",
    "flattype1621 = dict(prices.set_index('month')['2016':'2021'].reset_index()['flat_type'].value_counts()/len(prices.set_index('month')['2016':'2021'].reset_index())*100)\n",
    "\n",
    "plt.figure(figsize=(10,5),\n",
    "    FigureClass=Waffle, \n",
    "    plots={\n",
    "        '211': {\n",
    "            'values': flattype,\n",
    "            'legend': {'loc': 'upper left', 'bbox_to_anchor': (1.05, 1), 'fontsize':11},\n",
    "            'title': {'label': 'Proportion of HDB Flat Types (All Years)', 'loc': 'left', 'fontsize':16}\n",
    "        },\n",
    "        '212': {\n",
    "            'values': flattype1621,\n",
    "            'legend': {'loc': 'upper left', 'bbox_to_anchor': (1.05, 1), 'fontsize':11},\n",
    "            'title': {'label': 'Proportion of HDB Flat Types (2016-2021)', 'loc': 'left', 'fontsize':16}            \n",
    "        },\n",
    "    },\n",
    "    rows=5, \n",
    "    colors=[\"#1f77b4\", \"#ff7f0e\", \"green\", 'purple', 'black', 'yellow', 'brown'],\n",
    "    #colors=[\"#3c78d8\", \"#00cef6\", \"#aff000\", '#28324a', 'black', 'yellow', 'brown'],\n",
    "    icons='home', \n",
    "    font_size=22, \n",
    "    icon_legend=True)\n",
    "    \n",
    "plt.show()"
   ]
  },
  {
   "cell_type": "code",
   "execution_count": null,
   "metadata": {},
   "outputs": [],
   "source": [
    "flattype = ['3 ROOM','4 ROOM','5 ROOM','EXECUTIVE']\n",
    "flattype1621 = prices.set_index('month').sort_index().loc['2016-01':'2021-12']\n",
    "flattype1621 = flattype1621[flattype1621['flat_type'].isin(flattype)][['flat_type','real_price']].reset_index()\n",
    "flattype1621['flat_type_year'] = flattype1621['flat_type'] + ' - ' + flattype1621['month'].apply(lambda x: str(x)[:4])\n",
    "flattype1621"
   ]
  },
  {
   "cell_type": "code",
   "execution_count": null,
   "metadata": {},
   "outputs": [],
   "source": [
    "# ridgeline plot for looking at distribution of flat types by year\n",
    "import joypy\n",
    "fig, axes = joypy.joyplot(flattype1621, by=\"flat_type_year\", column=\"real_price\",figsize=(9,7),\n",
    "             linewidth=0.05,overlap=1.5,alpha=0.8,colormap=plt.cm.get_cmap('tab20',4))\n",
    "axes[-1].set_xlim([0,1200000])\n",
    "axes[-1].set_xticklabels(['0', '200k', '400k', '600k', '800k', '1000k', '1200k', '1400k']) \n",
    "plt.xlabel('Resale Price SGD ($)', fontsize=14)\n",
    "fig.show()"
   ]
  },
  {
   "cell_type": "code",
   "execution_count": null,
   "metadata": {},
   "outputs": [],
   "source": [
    "## 2016 to 2021\n",
    "prices['year'] = pd.DatetimeIndex(prices['month']).year # extract out year\n",
    "prices1621 = prices[prices['year'].isin([2016,2017,2018,2019,2020,2021])].groupby(['town'], as_index=False).agg({'real_price': 'median'}).sort_values('real_price', ascending=True).reset_index(drop=True)\n",
    "prices1621['real_price'] = round(prices1621['real_price']/1000)\n",
    "prices1621['color'] = ['#f8766d'] + ['#3c78d8']*(len(prices1621)-2) + ['#00ba38']\n",
    "\n",
    "# 4-room\n",
    "prices1621_4room = prices[(prices['flat_type'].isin(['4 ROOM'])) & (prices['year'].isin([2016,2017,2018,2019,2020,2021]))].groupby(['town'], as_index=False).agg({'real_price': 'median'}).sort_values('real_price', ascending=True).reset_index(drop=True)\n",
    "prices1621_4room['real_price'] = round(prices1621_4room['real_price']/1000)\n",
    "prices1621_4room['color'] = ['#f8766d','#f8766d'] + ['#3c78d8']*(len(prices1621_4room)-3) + ['#00ba38']\n",
    "\n",
    "## 2001 vs 2021\n",
    "# all room type\n",
    "prices0121 = prices[prices['year'].isin([2001,2021])].groupby(['town','year'], as_index=False).agg({'real_price': 'median'})\n",
    "prices0121['change'] = prices0121.groupby('town')['real_price'].apply(lambda x: x.pct_change()*100)\n",
    "prices0121 = prices0121[prices0121['change'].notnull()] \n",
    "prices0121 = prices0121.sort_values('change', ascending=True).reset_index(drop=True).reset_index()\n",
    "prices0121['color'] = prices0121['change'].apply(lambda x: '#00ba38' if x > 0 else '#f8766d')\n",
    "\n",
    "# 4-room\n",
    "prices0121_4room = prices[(prices['flat_type'].isin(['4 ROOM']) & prices['year'].isin([2001,2021]))].groupby(['town','year'], as_index=False).agg({'real_price': 'median'})\n",
    "prices0121_4room['change'] = prices0121_4room.groupby('town')['real_price'].apply(lambda x: x.pct_change()*100)\n",
    "prices0121_4room = prices0121_4room[prices0121_4room.change.notnull()]\n",
    "prices0121_4room = prices0121_4room.sort_values('change', ascending=True).reset_index(drop=True).reset_index()\n",
    "prices0121_4room['color'] = prices0121_4room['change'].apply(lambda x: '#00ba38' if x > 0 else '#f8766d')\n",
    "\n",
    "## 2020 vs 2021\n",
    "# all room type\n",
    "prices1921 = prices[prices['year'].isin([2019,2021])].groupby(['town','year'], as_index=False).agg({'real_price': 'median'})\n",
    "prices1921['change'] = prices1921.groupby('town')['real_price'].apply(lambda x: x.pct_change()*100)\n",
    "prices1921 = prices1921[prices1921['change'].notnull()] \n",
    "prices1921 = prices1921.sort_values('change', ascending=True).reset_index(drop=True).reset_index()\n",
    "prices1921['color'] = prices1921['change'].apply(lambda x: '#00ba38' if x > 0 else '#f8766d')\n",
    "\n",
    "# 4-room\n",
    "prices1921_4room = prices[(prices['flat_type'].isin(['4 ROOM']) & prices['year'].isin([2019,2021]))].groupby(['town','year'], as_index=False).agg({'real_price': 'median'})\n",
    "prices1921_4room['change'] = prices1921_4room.groupby('town')['real_price'].apply(lambda x: x.pct_change()*100)\n",
    "prices1921_4room = prices1921_4room[prices1921_4room.change.notnull()]\n",
    "prices1921_4room = prices1921_4room.sort_values('change', ascending=True).reset_index(drop=True).reset_index()\n",
    "prices1921_4room['color'] = prices1921_4room['change'].apply(lambda x: '#00ba38' if x > 0 else '#f8766d')"
   ]
  },
  {
   "cell_type": "code",
   "execution_count": null,
   "metadata": {},
   "outputs": [],
   "source": [
    "# Function for lollipop charts\n",
    "def loll_plot(df, x, y, subtitle, xlabel, xlim):\n",
    "    plt.rc('axes', axisbelow=True)\n",
    "    plt.grid(linestyle='--', alpha=0.4)\n",
    "    plt.hlines(y=df.index, xmin=0, xmax=df[x], color=df.color, linewidth=1)\n",
    "    plt.scatter(df[x], df.index, color=df.color, s=300)\n",
    "    for i, txt in enumerate(df[x]):\n",
    "        plt.annotate(str(round(txt)), (txt, i), color='white', fontsize=9, ha='center', va='center')\n",
    "    plt.annotate(subtitle, xy=(1, 0), xycoords='axes fraction', fontsize=20,\n",
    "                    xytext=(-5, 5), textcoords='offset points',\n",
    "                    ha='right', va='bottom')\n",
    "    plt.yticks(df.index, df[y]); plt.xticks(fontsize=12); plt.xlim(xlim)\n",
    "    plt.xlabel(xlabel, fontsize=14)"
   ]
  },
  {
   "cell_type": "code",
   "execution_count": null,
   "metadata": {},
   "outputs": [],
   "source": [
    "fig = plt.figure(figsize=(12,7))\n",
    "\n",
    "ax1 = plt.subplot(121)\n",
    "loll_plot(prices1621, 'real_price', 'town', 'All Room Types', 'Resale Price (SGD)', [50,800])\n",
    "ax1.set_xticklabels(['{:,.0f}'.format(x) + 'K' for x in ax1.get_xticks()])\n",
    "ax1.yaxis.set_ticks_position('none') \n",
    "\n",
    "ax2 = plt.subplot(122)\n",
    "loll_plot(prices1621_4room, 'real_price', 'town', '4-Room', 'Resale Price (SGD)', [50,800])\n",
    "ax2.set_xticklabels(['{:,.0f}'.format(x) + 'K' for x in ax2.get_xticks()])\n",
    "ax2.yaxis.set_ticks_position('none') \n",
    "\n",
    "fig.tight_layout(pad=0, rect=[0, 0, 0.9, 0.9])\n",
    "plt.suptitle('2016 to 2021, Median Price of Flats', fontsize=16)\n",
    "plt.show()"
   ]
  },
  {
   "cell_type": "code",
   "execution_count": null,
   "metadata": {},
   "outputs": [],
   "source": [
    "fig = plt.figure(figsize=(12,7))\n",
    "\n",
    "ax1 = plt.subplot(121)\n",
    "loll_plot(prices0121, 'change', 'town', 'All Room Types', 'Percent Change (%)', [-40,300])\n",
    "\n",
    "ax2 = plt.subplot(122)\n",
    "loll_plot(prices0121_4room, 'change', 'town', '4-Room', 'Percent Change (%)', [-40,300])\n",
    "\n",
    "fig.tight_layout(pad=0, rect=[0, 0, 0.9, 0.9])\n",
    "plt.suptitle('2001 vs 2021, Median Price of Flats', fontsize=16)\n",
    "plt.show()"
   ]
  },
  {
   "cell_type": "code",
   "execution_count": null,
   "metadata": {},
   "outputs": [],
   "source": [
    "fig = plt.figure(figsize=(12,7))\n",
    "\n",
    "ax1 = plt.subplot(121)\n",
    "loll_plot(prices1921, 'change', 'town', 'All Room Types', 'Percent Change (%)', [-30,50])\n",
    "\n",
    "ax2 = plt.subplot(122)\n",
    "loll_plot(prices1921_4room, 'change', 'town', '4-Room', 'Percent Change (%)', [-30,50])\n",
    "\n",
    "fig.tight_layout(pad=0.5, rect=[0, 0, 0.9, 0.9])\n",
    "plt.suptitle('2019 vs 2021, Median Price of Flats', fontsize=16)\n",
    "plt.show()"
   ]
  },
  {
   "cell_type": "code",
   "execution_count": null,
   "metadata": {},
   "outputs": [],
   "source": [
    "prices[prices['year'].isin([2019,2021])].groupby('town')['lease_commence_date'].median().sort_values()"
   ]
  },
  {
   "source": [
    "## Storey"
   ],
   "cell_type": "markdown",
   "metadata": {}
  },
  {
   "cell_type": "code",
   "execution_count": null,
   "metadata": {},
   "outputs": [],
   "source": [
    "fig = plt.figure(figsize=(12,4))\n",
    "\n",
    "# Storey Prices\n",
    "ax1 = plt.subplot(121)\n",
    "storey = prices.groupby('storey_range')['real_price'].median().reset_index().sort_values(by='storey_range')\n",
    "storey['storey_rank'] = storey['storey_range'].astype('category').cat.codes # label encode\n",
    "a=sns.scatterplot(x=storey['storey_rank'], y=storey['real_price'], s=storey['storey_rank'].astype('int')*30, color='#00994d', edgecolors='w', alpha=0.5, ax=ax1)\n",
    "ylabels = ['{:,.0f}'.format(x) + 'K' for x in a.get_yticks()/1000]\n",
    "ax1.set_yticklabels(ylabels)\n",
    "ax1.set_xticklabels(pd.Series(['']).append(storey.iloc[[0,5,10,15,20,24],0]))\n",
    "ax1.set_ylim([280000,1100000]), ax1.set_ylabel('Resale Price SGD ($)', size=15), ax1.set_xlabel('Storey', size=15)\n",
    "ax1.set_title('All Years', size=15)\n",
    "\n",
    "# Floor Area Prices\n",
    "ax2 = plt.subplot(122)\n",
    "storey2 = prices[prices['year'].isin([2016,2017,2018,2019,2020,2021])].groupby('storey_range')['real_price'].median().reset_index().sort_values(by='storey_range')\n",
    "storey2['storey_rank'] = storey2['storey_range'].astype('category').cat.codes\n",
    "\n",
    "# Bubble chart\n",
    "b=sns.scatterplot(x=storey2['storey_rank'], y=storey2['real_price'], s=storey2['storey_rank'].astype('int')*30, color='#00994d', edgecolors='w', alpha=0.5, ax=ax2)\n",
    "ylabels = ['{:,.0f}'.format(x) + 'K' for x in ax2.get_yticks()/1000]\n",
    "ax2.set_yticklabels(ylabels); ax2.set_ylabel('')\n",
    "ax2.set_xticks([0,4,8,12,16])\n",
    "ax2.set_xticklabels(storey2.iloc[[0,4,8,12,16],0])\n",
    "ax2.set_ylim([280000,1100000]), ax2.set_xlabel('Storey', size=15)\n",
    "ax2.set_title('2016 to 2021', size=15)\n",
    "\n",
    "plt.show()"
   ]
  },
  {
   "source": [
    "## Floor Area"
   ],
   "cell_type": "markdown",
   "metadata": {}
  },
  {
   "cell_type": "code",
   "execution_count": null,
   "metadata": {},
   "outputs": [],
   "source": [
    "# Floor Area Prices\n",
    "area = prices[prices['year'].isin([2016,2017,2018,2019,2020,2021])]\n",
    "p=sns.regplot(x='floor_area_sqm', y='real_price', data=area, scatter_kws={\"s\": 1, 'alpha':0.5})\n",
    "ylabels = ['{:,.0f}'.format(x) + 'K' for x in p.get_yticks()/1000]\n",
    "p.set_yticklabels(ylabels)\n",
    "p.set_ylabel('Resale Price SGD ($)', size=15)\n",
    "p.set_xlabel('Floor Area (Square Meters)', size=15)\n",
    "plt.show()"
   ]
  },
  {
   "cell_type": "code",
   "execution_count": null,
   "metadata": {},
   "outputs": [],
   "source": [
    "display(area[area['floor_area_sqm'] > 200])"
   ]
  },
  {
   "source": [
    "# Block Number"
   ],
   "cell_type": "markdown",
   "metadata": {}
  },
  {
   "cell_type": "code",
   "execution_count": null,
   "metadata": {},
   "outputs": [],
   "source": [
    "import re\n",
    "\n",
    "# Block Number Prices\n",
    "get_num = lambda x: int(re.findall(\"\\d+\", x)[0])\n",
    "prices['blocknum'] = prices['block'].apply(get_num) # get only digits from block number\n",
    "tmp = prices[prices['blocknum'] > 99] # get only blocks that use 3-digit numbering system\n",
    "tmp = tmp.groupby('blocknum')['real_price'].median().reset_index()\n",
    "\n",
    "# Scatterplots\n",
    "fig = plt.figure(figsize=(12,4))\n",
    "\n",
    "ax1 = plt.subplot(121)\n",
    "a=sns.scatterplot(x=tmp['blocknum'].apply(lambda x: int(str(x)[0])), y=tmp['real_price'], color='#ff9933', edgecolors='w', alpha=0.9)\n",
    "ylabels = ['{:,.0f}'.format(x) + 'K' for x in a.get_yticks()/1000]\n",
    "ax1.set_yticklabels(ylabels)\n",
    "ax1.set_ylabel('Resale Price SGD ($)', size=15), ax1.set_xlabel('Neighbourhood Number', size=15)\n",
    "\n",
    "ax2 = plt.subplot(122)\n",
    "b=sns.scatterplot(x=tmp['blocknum'].apply(lambda x: int(str(x)[1:])), y=tmp['real_price'], edgecolors='w', alpha=0.9)\n",
    "ax2.set_yticklabels(ylabels)\n",
    "ax2.set_ylabel('', size=15)\n",
    "ax2.set_xlabel('Block Number', size=15)\n",
    "\n",
    "plt.show()"
   ]
  },
  {
   "source": [
    "# Flat Model"
   ],
   "cell_type": "markdown",
   "metadata": {}
  },
  {
   "cell_type": "code",
   "execution_count": null,
   "metadata": {},
   "outputs": [],
   "source": [
    "# Violin plots for price distribution of each flat model\n",
    "\n",
    "fig = plt.figure(figsize=(12,7))\n",
    "p=sns.violinplot(x='flat_model', y='real_price', data=prices, width=1,\n",
    "                order=prices.groupby('flat_model')['real_price'].median().sort_values().reset_index()['flat_model'].tolist())\n",
    "p.set_xticklabels(p.get_xticklabels(), rotation=30, ha='right'), p.set_xlabel('Flat Models', size=15)\n",
    "ylabels = ['{:,.0f}'.format(x) + 'K' for x in p.get_yticks()/1000]\n",
    "p.set_yticklabels(ylabels)\n",
    "p.set_ylabel('Resale Price SGD ($)', size=15)\n",
    "plt.show()"
   ]
  },
  {
   "source": [
    "# Lease Commence Date"
   ],
   "cell_type": "markdown",
   "metadata": {}
  },
  {
   "cell_type": "code",
   "execution_count": null,
   "metadata": {},
   "outputs": [],
   "source": [
    "# Boxplot for each year of lease commence date\n",
    "\n",
    "fig = plt.figure(figsize=(7,9))\n",
    "p=sns.boxplot(y='lease_commence_date', x='real_price', data=prices, width=1, orient='h', flierprops = dict(markerfacecolor = 'red', markersize = 0.1, linestyle='none'), linewidth=0.4)\n",
    "p.set_xlabel('Resale Price SGD ($)', size=15), p.set_ylabel('Lease Commence Year', size=15)\n",
    "xlabels = ['{:,.0f}'.format(x) + 'K' for x in p.get_xticks()/1000]\n",
    "p.set_xticklabels(xlabels)\n",
    "p.set_title('Resale Price By Lease Commence Year', size=15)\n",
    "plt.show()"
   ]
  },
  {
   "cell_type": "code",
   "execution_count": null,
   "metadata": {},
   "outputs": [],
   "source": [
    "\n",
    "tmp = prices[prices['year'].isin([2016,2017,2018,2019,2020,2021])]\n",
    "fig, axes = joypy.joyplot(tmp, by=\"lease_commence_date\", column=\"real_price\",figsize=(6,10),\n",
    "             linewidth=1,overlap=5,alpha=0.8,colormap=plt.cm.get_cmap('tab20',16))\n",
    "axes[-1].set_xlim([-50000,1400000])\n",
    "axes[-1].set_xticklabels(['0', '200k', '400k', '600k', '800k', '1000k', '1200k', '1400k']) \n",
    "plt.xlabel('Resale Price SGD ($)', fontsize=14)\n",
    "fig.show()"
   ]
  },
  {
   "source": [
    "## Distance to Nearest Amenities"
   ],
   "cell_type": "markdown",
   "metadata": {}
  },
  {
   "cell_type": "code",
   "execution_count": null,
   "metadata": {},
   "outputs": [],
   "source": [
    "flat_amenities = pd.read_csv('Data/flat_amenities.csv')\n",
    "\n",
    "# merge amenities data to flat data\n",
    "prices1621 = prices[prices['year'].isin([2016,2017,2018,2019,2020,2021])]\n",
    "prices1621['flat'] = prices['block'] + ' ' + prices['street_name']\n",
    "prices1621 = prices1621.merge(flat_amenities, on='flat', how='left')\n",
    "\n",
    "# reduce number of class of town to regions\n",
    "d_region = {'ANG MO KIO':'North East', 'BEDOK':'East', 'BISHAN':'Central', 'BUKIT BATOK':'West', 'BUKIT MERAH':'Central',\n",
    "       'BUKIT PANJANG':'West', 'BUKIT TIMAH':'Central', 'CENTRAL AREA':'Central', 'CHOA CHU KANG':'West',\n",
    "       'CLEMENTI':'West', 'GEYLANG':'Central', 'HOUGANG':'North East', 'JURONG EAST':'West', 'JURONG WEST':'West',\n",
    "       'KALLANG/WHAMPOA':'Central', 'MARINE PARADE':'Central', 'PASIR RIS':'East', 'PUNGGOL':'North East',\n",
    "       'QUEENSTOWN':'Central', 'SEMBAWANG':'North', 'SENGKANG':'North East', 'SERANGOON':'North East', 'TAMPINES':'East',\n",
    "       'TOA PAYOH':'Central', 'WOODLANDS':'North', 'YISHUN':'North'}\n",
    "prices1621['region'] = prices1621['town'].map(d_region)\n",
    "colors = {'North East':'Purple', 'East':'Green', 'Central':'Brown', 'West':'Red', 'North':'Orange'}"
   ]
  },
  {
   "cell_type": "code",
   "execution_count": null,
   "metadata": {},
   "outputs": [],
   "source": [
    "# get median info of each town\n",
    "tmp = prices1621.groupby('town')[['dist_cityhall','school_dist','num_school_2km','hawker_dist','num_hawker_2km','park_dist','num_park_2km','mall_dist','num_mall_2km','mrt_dist','num_mrt_2km','supermarket_dist','num_supermarket_2km','real_price']].median().reset_index()\n",
    "tmp['region'] = tmp['town'].map(d_region)\n",
    "\n",
    "# Scatterplot with names of towns\n",
    "fig, ax = plt.subplots(figsize=(8,5))\n",
    "grouped = tmp.groupby('region')\n",
    "for key, group in grouped:\n",
    "    group.plot(ax=ax, kind='scatter', x='dist_cityhall', y='real_price', label=key, color=colors[key], s=60)\n",
    "b, a = np.polyfit(tmp['dist_cityhall'], tmp['real_price'], 1)\n",
    "ax.plot(tmp['dist_cityhall'], a + b* tmp['dist_cityhall'], '-')  \n",
    "ax.set_xlim([0,20]), ax.set_xlabel('Distance from City Hall MRT (km)', size=15)\n",
    "ylabels = ['{:,.0f}'.format(x) + 'K' for x in ax.get_yticks()/1000]\n",
    "ax.set_yticklabels(ylabels), ax.set_ylabel('Resale Price SGD ($)', size=15)\n",
    "for i, txt in enumerate(tmp['town']):\n",
    "    ax.annotate(txt, (tmp['dist_cityhall'][i]+0.3, tmp['real_price'][i]), size=8, alpha=0.9)\n",
    "\n",
    "plt.show()"
   ]
  },
  {
   "cell_type": "code",
   "execution_count": null,
   "metadata": {},
   "outputs": [],
   "source": [
    "prices1621.groupby('region')['real_price'].median()"
   ]
  },
  {
   "cell_type": "code",
   "execution_count": null,
   "metadata": {},
   "outputs": [],
   "source": [
    "# scatterplot for median price of each town against nearest distance from each amenity\n",
    "\n",
    "p=sns.pairplot(tmp, x_vars=[\"school_dist\",\"hawker_dist\", \"park_dist\", \"mall_dist\", \"mrt_dist\", \"supermarket_dist\"], y_vars=[\"real_price\"], height=3, aspect=1, kind=\"reg\", plot_kws=dict(scatter_kws=dict(s=40)), diag_kind=None)\n",
    "axes=p.axes\n",
    "ylabels = ['{:,.0f}'.format(x) + 'K' for x in axes[0,0].get_yticks()/1000]\n",
    "axes[0,0].set_yticklabels(ylabels), axes[0,0].set_ylabel('Resale Price SGD ($)', size=10)\n",
    "axes[0,0].set_xlabel('Distance From School (km)', size=10), axes[0,1].set_xlabel('Distance From Hawker (km)', size=10)\n",
    "axes[0,2].set_xlabel('Distance From Park (km)', size=10), axes[0,3].set_xlabel('Distance From Mall (km)', size=10)\n",
    "axes[0,4].set_xlabel('Distance From MRT (km)', size=10), axes[0,5].set_xlabel('Distance From Supermarket (km)', size=10)\n",
    "plt.suptitle('Resale Price (Median of Each Town) VS Distance from Nearest Amenities (Median of Each Town)')\n",
    "plt.tight_layout(pad=0, rect=[0, 0, 0.9, 0.9])\n",
    "plt.close()"
   ]
  },
  {
   "cell_type": "code",
   "execution_count": null,
   "metadata": {},
   "outputs": [],
   "source": [
    "# scatterplot for price of each flat against nearest distance from each amenity\n",
    "\n",
    "p=sns.pairplot(prices1621[prices1621['school_dist']<3], x_vars=[\"school_dist\", \"hawker_dist\", \"park_dist\", \"mall_dist\", \"mrt_dist\", \"supermarket_dist\"], y_vars=[\"real_price\"], height=3, aspect=1, kind=\"reg\", plot_kws=dict(scatter_kws=dict(s=0.5,alpha=0.3), line_kws=dict(color='#ff7f0e')), diag_kind=None) # remove outliers (>3km)\n",
    "axes=p.axes\n",
    "ylabels = ['{:,.0f}'.format(x) + 'K' for x in axes[0,0].get_yticks()/1000]\n",
    "axes[0,0].set_yticklabels(ylabels), axes[0,0].set_ylabel('Resale Price SGD ($)', size=10)\n",
    "axes[0,0].set_xlabel('Distance From School (km)', size=10), axes[0,1].set_xlabel('Distance From Hawker (km)', size=10)\n",
    "axes[0,2].set_xlabel('Distance From Park (km)', size=10), axes[0,3].set_xlabel('Distance From Mall (km)', size=10)\n",
    "axes[0,4].set_xlabel('Distance From MRT (km)', size=10), axes[0,5].set_xlabel('Distance From Supermarket (km)', size=10)\n",
    "plt.suptitle('Resale Price VS Distance from Nearest Amenities')\n",
    "plt.tight_layout(pad=0, rect=[0, 0, 0.9, 0.9])\n",
    "plt.close()"
   ]
  },
  {
   "source": [
    "## Number of Amenities in 2km Radius"
   ],
   "cell_type": "markdown",
   "metadata": {}
  },
  {
   "cell_type": "code",
   "execution_count": null,
   "metadata": {},
   "outputs": [],
   "source": [
    "\n",
    "# scatterplot for median price of each town against number of amenities\n",
    "\n",
    "p=sns.pairplot(tmp, x_vars=[\"num_school_2km\", \"num_hawker_2km\", \"num_park_2km\", \"num_mall_2km\", \"num_mrt_2km\", \"num_supermarket_2km\"], y_vars=[\"real_price\"], height=3, aspect=1, kind=\"reg\", plot_kws=dict(scatter_kws=dict(s=40)), diag_kind=None)\n",
    "axes=p.axes\n",
    "ylabels = ['{:,.0f}'.format(x) + 'K' for x in axes[0,0].get_yticks()/1000]\n",
    "axes[0,0].set_yticklabels(ylabels), axes[0,0].set_ylabel('Resale Price SGD ($)', size=10)\n",
    "axes[0,0].set_xlabel('Number of Schools', size=10), axes[0,1].set_xlabel('Number of Hawkers', size=10)\n",
    "axes[0,2].set_xlabel('Number of Parks', size=10), axes[0,3].set_xlabel('Number of Malls', size=10)\n",
    "axes[0,4].set_xlabel('Number of MRTs', size=10), axes[0,5].set_xlabel('Number of Supermarkets', size=10)\n",
    "plt.suptitle('Resale Price (Median of Each Town) VS Number of Amenities in 2km Radius (Median of Each Town)')\n",
    "plt.tight_layout(pad=0, rect=[0, 0, 0.9, 0.9])\n",
    "plt.close()"
   ]
  },
  {
   "cell_type": "code",
   "execution_count": null,
   "metadata": {},
   "outputs": [],
   "source": [
    "# scatterplot for price of each flat against number of amenities\n",
    "\n",
    "p=sns.pairplot(prices1621, x_vars=[\"num_school_2km\", \"num_hawker_2km\", \"num_park_2km\", \"num_mall_2km\", \"num_mrt_2km\", \"num_supermarket_2km\"], y_vars=[\"real_price\"], height=3, aspect=1, kind=\"reg\", plot_kws=dict(scatter_kws=dict(s=0.5,alpha=0.3), line_kws=dict(color='#ff7f0e')), diag_kind=None)\n",
    "axes=p.axes\n",
    "ylabels = ['{:,.0f}'.format(x) + 'K' for x in axes[0,0].get_yticks()/1000]\n",
    "axes[0,0].set_yticklabels(ylabels), axes[0,0].set_ylabel('Resale Price SGD ($)', size=10)\n",
    "axes[0,0].set_xlabel('Number of Schools', size=10), axes[0,1].set_xlabel('Number of Hawkers', size=10)\n",
    "axes[0,2].set_xlabel('Number of Parks', size=10), axes[0,3].set_xlabel('Number of Malls', size=10)\n",
    "axes[0,4].set_xlabel('Number of MRTs', size=10), axes[0,5].set_xlabel('Number of Supermarkets', size=10)\n",
    "plt.suptitle('Resale Price VS Number of Amenities in 2km Radius')\n",
    "plt.tight_layout(pad=0, rect=[0, 0, 0.9, 0.9])\n",
    "plt.close()\n"
   ]
  },
  {
   "cell_type": "code",
   "execution_count": null,
   "metadata": {},
   "outputs": [],
   "source": [
    "prices1621.to_csv('temp/prices1621.csv', index=False)"
   ]
  },
  {
   "cell_type": "code",
   "execution_count": null,
   "metadata": {},
   "outputs": [],
   "source": []
  }
 ]
}