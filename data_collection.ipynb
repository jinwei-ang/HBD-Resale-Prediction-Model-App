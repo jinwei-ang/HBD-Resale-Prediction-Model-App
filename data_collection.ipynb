{
 "metadata": {
  "language_info": {
   "codemirror_mode": {
    "name": "ipython",
    "version": 3
   },
   "file_extension": ".py",
   "mimetype": "text/x-python",
   "name": "python",
   "nbconvert_exporter": "python",
   "pygments_lexer": "ipython3",
   "version": "3.8.5"
  },
  "orig_nbformat": 4,
  "kernelspec": {
   "name": "python3",
   "display_name": "Python 3.8.5 64-bit ('base': conda)"
  },
  "interpreter": {
   "hash": "b3ba2566441a7c06988d0923437866b63cedc61552a5af99d1f4fb67d367b25f"
  }
 },
 "nbformat": 4,
 "nbformat_minor": 2,
 "cells": [
  {
   "cell_type": "code",
   "execution_count": 1,
   "metadata": {},
   "outputs": [],
   "source": [
    "import requests\n",
    "import json\n",
    "import os\n",
    "import pandas as pd\n",
    "import numpy as np\n",
    "import matplotlib.pyplot as plt\n",
    "%matplotlib inline"
   ]
  },
  {
   "cell_type": "code",
   "execution_count": 2,
   "metadata": {},
   "outputs": [],
   "source": [
    "from tqdm.notebook import trange, tqdm\n",
    "from time import sleep"
   ]
  },
  {
   "source": [
    "Address coordinates"
   ],
   "cell_type": "markdown",
   "metadata": {}
  },
  {
   "cell_type": "code",
   "execution_count": 3,
   "metadata": {},
   "outputs": [],
   "source": [
    "## Function for getting postal code, geo coordinates of addresses\n",
    "\n",
    "def find_postal(lst, filename):\n",
    "    '''With the block number and street name, get the full address of the hdb flat,\n",
    "    including the postal code, geogaphical coordinates (lat/long)'''\n",
    "    \n",
    "    for index,add in enumerate(tqdm(lst)):\n",
    "        # Do not need to change the URL\n",
    "        url= \"https://developers.onemap.sg/commonapi/search?returnGeom=Y&getAddrDetails=Y&pageNum=1&searchVal=\"+ add        \n",
    "        # print(index,url)\n",
    "        \n",
    "        # Retrieve information from website\n",
    "        response = requests.get(url)\n",
    "        try:\n",
    "            data = json.loads(response.text) \n",
    "        except ValueError:\n",
    "            print('JSONDecodeError')\n",
    "            pass\n",
    "    \n",
    "        temp_df = pd.DataFrame.from_dict(data[\"results\"])\n",
    "        # The \"add\" is the address that was used to search in the website\n",
    "        temp_df[\"address\"] = add\n",
    "        \n",
    "        # Create the file with the first row that is read in \n",
    "        if index == 0:\n",
    "            file = temp_df\n",
    "        else:\n",
    "            file = file.append(temp_df)\n",
    "    \n",
    "    file.to_csv(filename + '.csv')"
   ]
  },
  {
   "cell_type": "code",
   "execution_count": 4,
   "metadata": {},
   "outputs": [],
   "source": [
    "## Function for getting closest distance of each location from a list of amenities location\n",
    "\n",
    "from geopy.distance import geodesic\n",
    "\n",
    "def find_nearest(house, amenity, radius=2):\n",
    "    \"\"\"\n",
    "    this function finds the nearest locations from the 2nd table from the 1st address\n",
    "    Both are dataframes with a specific format:\n",
    "        1st column: any string column ie addresses taken from the \"find_postal_address.py\"\n",
    "        2nd column: latitude (float)\n",
    "        3rd column: longitude (float)\n",
    "    Column name doesn't matter.\n",
    "    It also finds the number of amenities within the given radius (default=2)\n",
    "    \"\"\"\n",
    "    results = {}\n",
    "    # first column must be address\n",
    "    for index,flat in enumerate(tqdm(house.iloc[:,0])):\n",
    "        \n",
    "        # 2nd column must be latitude, 3rd column must be longitude\n",
    "        flat_loc = (house.iloc[index,1],house.iloc[index,2])\n",
    "        flat_amenity = ['','',100,0]\n",
    "        for ind, eachloc in enumerate(amenity.iloc[:,0]):\n",
    "            amenity_loc = (amenity.iloc[ind,1],amenity.iloc[ind,2])\n",
    "            distance = geodesic(flat_loc,amenity_loc)\n",
    "            distance = float(str(distance)[:-3]) # convert to float\n",
    "\n",
    "            if distance <= radius:   # compute number of amenities in 2km radius\n",
    "                flat_amenity[3] += 1\n",
    "\n",
    "            if distance < flat_amenity[2]: # find nearest amenity\n",
    "                flat_amenity[0] = flat\n",
    "                flat_amenity[1] = eachloc\n",
    "                flat_amenity[2] = distance\n",
    "\n",
    "        results[flat] = flat_amenity\n",
    "    return results"
   ]
  },
  {
   "cell_type": "code",
   "execution_count": 5,
   "metadata": {},
   "outputs": [],
   "source": [
    "def dist_from_location(house, location):\n",
    "    \"\"\"\n",
    "    this function finds the distance of a location from the 1st address\n",
    "    First is a dataframe with a specific format:\n",
    "        1st column: any string column ie addresses taken from the \"find_postal_address.py\"\n",
    "        2nd column: latitude (float)\n",
    "        3rd column: longitude (float)\n",
    "    Column name doesn't matter.\n",
    "    Second is tuple with latitude and longitude of location\n",
    "    \"\"\"\n",
    "    results = {}\n",
    "    # first column must be address\n",
    "    for index,flat in enumerate(tqdm(house.iloc[:,0])):\n",
    "        \n",
    "        # 2nd column must be latitude, 3rd column must be longitude\n",
    "        flat_loc = (house.iloc[index,1],house.iloc[index,2])\n",
    "        flat_amenity = ['',100]\n",
    "        distance = geodesic(flat_loc,location)\n",
    "        distance = float(str(distance)[:-3]) # convert to float\n",
    "        flat_amenity[0] = flat\n",
    "        flat_amenity[1] = distance\n",
    "        results[flat] = flat_amenity\n",
    "    return results"
   ]
  },
  {
   "source": [
    "House Address"
   ],
   "cell_type": "markdown",
   "metadata": {}
  },
  {
   "cell_type": "code",
   "execution_count": 6,
   "metadata": {},
   "outputs": [],
   "source": [
    "price1999 = pd.read_csv('./data_gov/resale-flat-prices-based-on-approval-date-1990-1999.csv')\n",
    "price2012 = pd.read_csv('./data_gov/resale-flat-prices-based-on-approval-date-2000-feb-2012.csv')\n",
    "price2014 = pd.read_csv('./data_gov/resale-flat-prices-based-on-registration-date-from-mar-2012-to-dec-2014.csv')\n",
    "price2016 = pd.read_csv('./data_gov/resale-flat-prices-based-on-registration-date-from-jan-2015-to-dec-2016.csv')\n",
    "price2017 = pd.read_csv('./data_gov/resale-flat-prices-based-on-registration-date-from-jan-2017-onwards.csv')\n",
    "\n",
    "df_resale = pd.concat([price1999, price2012, price2014], sort=False)\n",
    "df_resale = pd.concat([df_resale, price2016, price2017], axis=0, ignore_index=True, sort=False)"
   ]
  },
  {
   "cell_type": "code",
   "execution_count": 7,
   "metadata": {},
   "outputs": [],
   "source": [
    "df_resale = df_resale[['block', 'street_name']]\n",
    "df_resale['address'] = df_resale['block'] + ' ' + df_resale['street_name']"
   ]
  },
  {
   "cell_type": "code",
   "execution_count": 8,
   "metadata": {},
   "outputs": [],
   "source": [
    "text_replace_dict = {\"GEORGES\":\"GEORGE’S\",\n",
    " \"CWEALTH\":\"COMMONWEALTH\",\n",
    " \"QUEENS\":\"QUEEN’S\",\n",
    " \"MAMOR\":\"MA'MOR\",\n",
    " \" ST \":\" STREET \"\n",
    " }\n",
    "def clean_address(string,dictionary):\n",
    " for item in string.split(\" \"):\n",
    "# print(item)\n",
    "    if item in text_replace_dict.keys():\n",
    "        string = string.replace(item,text_replace_dict[item])\n",
    "    else:\n",
    "        string\n",
    "    return string\n",
    " \n",
    "df_resale['address_clean'] = [clean_address(val,text_replace_dict) for val in df_resale['address']]"
   ]
  },
  {
   "cell_type": "code",
   "execution_count": 9,
   "metadata": {},
   "outputs": [
    {
     "output_type": "execute_result",
     "data": {
      "text/plain": [
       "          address_clean\n",
       "0  309 ANG MO KIO AVE 1\n",
       "1  309 ANG MO KIO AVE 1\n",
       "2  309 ANG MO KIO AVE 1\n",
       "3  309 ANG MO KIO AVE 1\n",
       "4  216 ANG MO KIO AVE 1"
      ],
      "text/html": "<div>\n<style scoped>\n    .dataframe tbody tr th:only-of-type {\n        vertical-align: middle;\n    }\n\n    .dataframe tbody tr th {\n        vertical-align: top;\n    }\n\n    .dataframe thead th {\n        text-align: right;\n    }\n</style>\n<table border=\"1\" class=\"dataframe\">\n  <thead>\n    <tr style=\"text-align: right;\">\n      <th></th>\n      <th>address_clean</th>\n    </tr>\n  </thead>\n  <tbody>\n    <tr>\n      <th>0</th>\n      <td>309 ANG MO KIO AVE 1</td>\n    </tr>\n    <tr>\n      <th>1</th>\n      <td>309 ANG MO KIO AVE 1</td>\n    </tr>\n    <tr>\n      <th>2</th>\n      <td>309 ANG MO KIO AVE 1</td>\n    </tr>\n    <tr>\n      <th>3</th>\n      <td>309 ANG MO KIO AVE 1</td>\n    </tr>\n    <tr>\n      <th>4</th>\n      <td>216 ANG MO KIO AVE 1</td>\n    </tr>\n  </tbody>\n</table>\n</div>"
     },
     "metadata": {},
     "execution_count": 9
    }
   ],
   "source": [
    "df_resale = df_resale.drop(['block','street_name','address'], axis=1)\n",
    "df_resale.head()"
   ]
  },
  {
   "cell_type": "code",
   "execution_count": 10,
   "metadata": {},
   "outputs": [
    {
     "output_type": "stream",
     "name": "stdout",
     "text": [
      "unique address out of 100255 housing transactions: 9418\n"
     ]
    }
   ],
   "source": [
    "all_address = list(df_resale['address_clean'])\n",
    "unique_address = list(set(all_address))\n",
    "print(\"unique address out of 100255 housing transactions:\", len(unique_address))\n",
    "# unique_address"
   ]
  },
  {
   "cell_type": "code",
   "execution_count": 11,
   "metadata": {},
   "outputs": [
    {
     "output_type": "execute_result",
     "data": {
      "text/plain": [
       "['106 WOODLANDS ST 13',\n",
       " '213B PUNGGOL WALK',\n",
       " '8 EMPRESS RD',\n",
       " '636 YISHUN ST 61',\n",
       " '258B COMPASSVALE RD',\n",
       " '332C ANCHORVALE LINK',\n",
       " '632 PASIR RIS DR 3',\n",
       " '625 SENJA RD',\n",
       " '882 TAMPINES ST 84',\n",
       " '117 PENDING RD']"
      ]
     },
     "metadata": {},
     "execution_count": 11
    }
   ],
   "source": [
    "unique_address[:10]"
   ]
  },
  {
   "cell_type": "code",
   "execution_count": 12,
   "metadata": {
    "tags": []
   },
   "outputs": [
    {
     "output_type": "display_data",
     "data": {
      "text/plain": "  0%|          | 0/9418 [00:00<?, ?it/s]",
      "application/vnd.jupyter.widget-view+json": {
       "version_major": 2,
       "version_minor": 0,
       "model_id": "ef54cc2e33dc48439cf27f7fd3785498"
      }
     },
     "metadata": {}
    }
   ],
   "source": [
    "find_postal(unique_address, 'Data/flat_coordinates')"
   ]
  },
  {
   "cell_type": "code",
   "execution_count": 13,
   "metadata": {},
   "outputs": [
    {
     "output_type": "execute_result",
     "data": {
      "text/plain": [
       "               address  LATITUDE   LONGITUDE\n",
       "0  106 WOODLANDS ST 13  1.436769  103.782224\n",
       "1    213B PUNGGOL WALK  1.400720  103.898485\n",
       "2         8 EMPRESS RD  1.316412  103.805374\n",
       "3     636 YISHUN ST 61  1.419797  103.839313\n",
       "4  258B COMPASSVALE RD  1.392903  103.897405"
      ],
      "text/html": "<div>\n<style scoped>\n    .dataframe tbody tr th:only-of-type {\n        vertical-align: middle;\n    }\n\n    .dataframe tbody tr th {\n        vertical-align: top;\n    }\n\n    .dataframe thead th {\n        text-align: right;\n    }\n</style>\n<table border=\"1\" class=\"dataframe\">\n  <thead>\n    <tr style=\"text-align: right;\">\n      <th></th>\n      <th>address</th>\n      <th>LATITUDE</th>\n      <th>LONGITUDE</th>\n    </tr>\n  </thead>\n  <tbody>\n    <tr>\n      <th>0</th>\n      <td>106 WOODLANDS ST 13</td>\n      <td>1.436769</td>\n      <td>103.782224</td>\n    </tr>\n    <tr>\n      <th>1</th>\n      <td>213B PUNGGOL WALK</td>\n      <td>1.400720</td>\n      <td>103.898485</td>\n    </tr>\n    <tr>\n      <th>2</th>\n      <td>8 EMPRESS RD</td>\n      <td>1.316412</td>\n      <td>103.805374</td>\n    </tr>\n    <tr>\n      <th>3</th>\n      <td>636 YISHUN ST 61</td>\n      <td>1.419797</td>\n      <td>103.839313</td>\n    </tr>\n    <tr>\n      <th>4</th>\n      <td>258B COMPASSVALE RD</td>\n      <td>1.392903</td>\n      <td>103.897405</td>\n    </tr>\n  </tbody>\n</table>\n</div>"
     },
     "metadata": {},
     "execution_count": 13
    }
   ],
   "source": [
    "flat_coord = pd.read_csv('Data/flat_coordinates.csv')\n",
    "flat_coord = flat_coord[['address','LATITUDE','LONGITUDE']]\n",
    "flat_coord.head()"
   ]
  },
  {
   "source": [
    "## Get dist from City Hall (town centre)"
   ],
   "cell_type": "markdown",
   "metadata": {}
  },
  {
   "cell_type": "code",
   "execution_count": 14,
   "metadata": {},
   "outputs": [
    {
     "output_type": "execute_result",
     "data": {
      "text/plain": [
       "   SEARCHVAL  LATITUDE   LONGITUDE\n",
       "0  CITY HALL  1.293176  103.852507"
      ],
      "text/html": "<div>\n<style scoped>\n    .dataframe tbody tr th:only-of-type {\n        vertical-align: middle;\n    }\n\n    .dataframe tbody tr th {\n        vertical-align: top;\n    }\n\n    .dataframe thead th {\n        text-align: right;\n    }\n</style>\n<table border=\"1\" class=\"dataframe\">\n  <thead>\n    <tr style=\"text-align: right;\">\n      <th></th>\n      <th>SEARCHVAL</th>\n      <th>LATITUDE</th>\n      <th>LONGITUDE</th>\n    </tr>\n  </thead>\n  <tbody>\n    <tr>\n      <th>0</th>\n      <td>CITY HALL</td>\n      <td>1.293176</td>\n      <td>103.852507</td>\n    </tr>\n  </tbody>\n</table>\n</div>"
     },
     "metadata": {},
     "execution_count": 14
    }
   ],
   "source": [
    "df_cityhall_coord  = pd.DataFrame([['CITY HALL', 1.29317576, 103.8525073]], columns=['SEARCHVAL', 'LATITUDE', 'LONGITUDE'])\n",
    "df_cityhall_coord"
   ]
  },
  {
   "cell_type": "code",
   "execution_count": 69,
   "metadata": {},
   "outputs": [
    {
     "output_type": "display_data",
     "data": {
      "text/plain": "  0%|          | 0/11634 [00:00<?, ?it/s]",
      "application/vnd.jupyter.widget-view+json": {
       "version_major": 2,
       "version_minor": 0,
       "model_id": "031b4fb40afd42d98e81567c994f5469"
      }
     },
     "metadata": {}
    },
    {
     "output_type": "execute_result",
     "data": {
      "text/plain": [
       "                  flat dist_cityhall\n",
       "0  106 WOODLANDS ST 13       17.6999\n",
       "1    213B PUNGGOL WALK       12.9458\n",
       "2         8 EMPRESS RD       5.84098\n",
       "3     636 YISHUN ST 61        14.078\n",
       "4  258B COMPASSVALE RD       12.1065"
      ],
      "text/html": "<div>\n<style scoped>\n    .dataframe tbody tr th:only-of-type {\n        vertical-align: middle;\n    }\n\n    .dataframe tbody tr th {\n        vertical-align: top;\n    }\n\n    .dataframe thead th {\n        text-align: right;\n    }\n</style>\n<table border=\"1\" class=\"dataframe\">\n  <thead>\n    <tr style=\"text-align: right;\">\n      <th></th>\n      <th>flat</th>\n      <th>dist_cityhall</th>\n    </tr>\n  </thead>\n  <tbody>\n    <tr>\n      <th>0</th>\n      <td>106 WOODLANDS ST 13</td>\n      <td>17.6999</td>\n    </tr>\n    <tr>\n      <th>1</th>\n      <td>213B PUNGGOL WALK</td>\n      <td>12.9458</td>\n    </tr>\n    <tr>\n      <th>2</th>\n      <td>8 EMPRESS RD</td>\n      <td>5.84098</td>\n    </tr>\n    <tr>\n      <th>3</th>\n      <td>636 YISHUN ST 61</td>\n      <td>14.078</td>\n    </tr>\n    <tr>\n      <th>4</th>\n      <td>258B COMPASSVALE RD</td>\n      <td>12.1065</td>\n    </tr>\n  </tbody>\n</table>\n</div>"
     },
     "metadata": {},
     "execution_count": 69
    }
   ],
   "source": [
    "dist_cityhall = dist_from_location(flat_coord, (1.29317576, 103.8525073))\n",
    "# dist_dhoby = dist_from_location(flat_coord, (1.299308, 103.845285))\n",
    "dist_cityhall = pd.DataFrame.from_dict(dist_cityhall).T\n",
    "dist_cityhall = dist_cityhall.rename(columns={0: 'flat', 1: 'dist_cityhall'}).reset_index().drop(['index'], axis=1)\n",
    "dist_cityhall.head()"
   ]
  },
  {
   "cell_type": "code",
   "execution_count": 70,
   "metadata": {},
   "outputs": [],
   "source": [
    "dist_cityhall.to_csv('./Data_coord/dist_cityhall.csv')"
   ]
  },
  {
   "source": [
    "## Supermarkets"
   ],
   "cell_type": "markdown",
   "metadata": {}
  },
  {
   "cell_type": "code",
   "execution_count": 17,
   "metadata": {},
   "outputs": [
    {
     "output_type": "execute_result",
     "data": {
      "text/plain": [
       "   licence_num                          licensee_name  \\\n",
       "0   S02185J000  COLD STORAGE SINGAPORE (1983) PTE LTD   \n",
       "1   S97166P000  COLD STORAGE SINGAPORE (1983) PTE LTD   \n",
       "2  CE15B61K000          U STARS SUPERMARKET PTE. LTD.   \n",
       "3   S02029J000        NTUC Fairprice Co-operative Ltd   \n",
       "4  CE04561V000        SHENG SIONG SUPERMARKET PTE LTD   \n",
       "\n",
       "                 building_name block_house_num level_num unit_num  \\\n",
       "0                           na             982         1        1   \n",
       "1  HOUGANG GREEN SHOPPING MALL              21         1       52   \n",
       "2                           na             330         1        1   \n",
       "3                HOUGANG POINT               1         2        1   \n",
       "4                           na              19         1    42401   \n",
       "\n",
       "                street_name postal_code  \n",
       "0         BUANGKOK CRESCENT      530982  \n",
       "1         HOUGANG STREET 51      538719  \n",
       "2         ANCHORVALE STREET      540330  \n",
       "3         HOUGANG STREET 91      538692  \n",
       "4  SERANGOON NORTH AVENUE 5      554913  "
      ],
      "text/html": "<div>\n<style scoped>\n    .dataframe tbody tr th:only-of-type {\n        vertical-align: middle;\n    }\n\n    .dataframe tbody tr th {\n        vertical-align: top;\n    }\n\n    .dataframe thead th {\n        text-align: right;\n    }\n</style>\n<table border=\"1\" class=\"dataframe\">\n  <thead>\n    <tr style=\"text-align: right;\">\n      <th></th>\n      <th>licence_num</th>\n      <th>licensee_name</th>\n      <th>building_name</th>\n      <th>block_house_num</th>\n      <th>level_num</th>\n      <th>unit_num</th>\n      <th>street_name</th>\n      <th>postal_code</th>\n    </tr>\n  </thead>\n  <tbody>\n    <tr>\n      <th>0</th>\n      <td>S02185J000</td>\n      <td>COLD STORAGE SINGAPORE (1983) PTE LTD</td>\n      <td>na</td>\n      <td>982</td>\n      <td>1</td>\n      <td>1</td>\n      <td>BUANGKOK CRESCENT</td>\n      <td>530982</td>\n    </tr>\n    <tr>\n      <th>1</th>\n      <td>S97166P000</td>\n      <td>COLD STORAGE SINGAPORE (1983) PTE LTD</td>\n      <td>HOUGANG GREEN SHOPPING MALL</td>\n      <td>21</td>\n      <td>1</td>\n      <td>52</td>\n      <td>HOUGANG STREET 51</td>\n      <td>538719</td>\n    </tr>\n    <tr>\n      <th>2</th>\n      <td>CE15B61K000</td>\n      <td>U STARS SUPERMARKET PTE. LTD.</td>\n      <td>na</td>\n      <td>330</td>\n      <td>1</td>\n      <td>1</td>\n      <td>ANCHORVALE STREET</td>\n      <td>540330</td>\n    </tr>\n    <tr>\n      <th>3</th>\n      <td>S02029J000</td>\n      <td>NTUC Fairprice Co-operative Ltd</td>\n      <td>HOUGANG POINT</td>\n      <td>1</td>\n      <td>2</td>\n      <td>1</td>\n      <td>HOUGANG STREET 91</td>\n      <td>538692</td>\n    </tr>\n    <tr>\n      <th>4</th>\n      <td>CE04561V000</td>\n      <td>SHENG SIONG SUPERMARKET PTE LTD</td>\n      <td>na</td>\n      <td>19</td>\n      <td>1</td>\n      <td>42401</td>\n      <td>SERANGOON NORTH AVENUE 5</td>\n      <td>554913</td>\n    </tr>\n  </tbody>\n</table>\n</div>"
     },
     "metadata": {},
     "execution_count": 17
    }
   ],
   "source": [
    "df_supermarket = pd.read_csv('data_gov/list-of-supermarket-licences.csv')\n",
    "df_supermarket.head()"
   ]
  },
  {
   "cell_type": "code",
   "execution_count": 18,
   "metadata": {},
   "outputs": [
    {
     "output_type": "stream",
     "name": "stdout",
     "text": [
      "Unique addresses: 445\n"
     ]
    }
   ],
   "source": [
    "supermerket_address = list(df_supermarket['postal_code'])\n",
    "unique_supermarket_address = list(set(supermerket_address))\n",
    "\n",
    "print('Unique addresses:', len(unique_supermarket_address))"
   ]
  },
  {
   "cell_type": "code",
   "execution_count": 19,
   "metadata": {
    "tags": []
   },
   "outputs": [
    {
     "output_type": "display_data",
     "data": {
      "text/plain": "  0%|          | 0/445 [00:00<?, ?it/s]",
      "application/vnd.jupyter.widget-view+json": {
       "version_major": 2,
       "version_minor": 0,
       "model_id": "b15bd824ec9b4d149587fd7c9d607a32"
      }
     },
     "metadata": {}
    }
   ],
   "source": [
    "find_postal(unique_supermarket_address, 'Data/supermarket_coordinates')"
   ]
  },
  {
   "cell_type": "code",
   "execution_count": 20,
   "metadata": {},
   "outputs": [
    {
     "output_type": "execute_result",
     "data": {
      "text/plain": [
       "                                      SEARCHVAL  LATITUDE   LONGITUDE\n",
       "0                           KIZROO KINDERGARTEN  1.338797  103.793256\n",
       "9   720 CLEMENTI WEST STREET 2 SINGAPORE 120720  1.302464  103.763751\n",
       "10                                 PPT LODGE 1B  1.417305  103.896203\n",
       "13    57 NEW UPPER CHANGI ROAD SINGAPORE 461057  1.324246  103.941569\n",
       "17                     KITS4KIDS SPECIAL SCHOOL  1.366488  103.841853"
      ],
      "text/html": "<div>\n<style scoped>\n    .dataframe tbody tr th:only-of-type {\n        vertical-align: middle;\n    }\n\n    .dataframe tbody tr th {\n        vertical-align: top;\n    }\n\n    .dataframe thead th {\n        text-align: right;\n    }\n</style>\n<table border=\"1\" class=\"dataframe\">\n  <thead>\n    <tr style=\"text-align: right;\">\n      <th></th>\n      <th>SEARCHVAL</th>\n      <th>LATITUDE</th>\n      <th>LONGITUDE</th>\n    </tr>\n  </thead>\n  <tbody>\n    <tr>\n      <th>0</th>\n      <td>KIZROO KINDERGARTEN</td>\n      <td>1.338797</td>\n      <td>103.793256</td>\n    </tr>\n    <tr>\n      <th>9</th>\n      <td>720 CLEMENTI WEST STREET 2 SINGAPORE 120720</td>\n      <td>1.302464</td>\n      <td>103.763751</td>\n    </tr>\n    <tr>\n      <th>10</th>\n      <td>PPT LODGE 1B</td>\n      <td>1.417305</td>\n      <td>103.896203</td>\n    </tr>\n    <tr>\n      <th>13</th>\n      <td>57 NEW UPPER CHANGI ROAD SINGAPORE 461057</td>\n      <td>1.324246</td>\n      <td>103.941569</td>\n    </tr>\n    <tr>\n      <th>17</th>\n      <td>KITS4KIDS SPECIAL SCHOOL</td>\n      <td>1.366488</td>\n      <td>103.841853</td>\n    </tr>\n  </tbody>\n</table>\n</div>"
     },
     "metadata": {},
     "execution_count": 20
    }
   ],
   "source": [
    "supermarket_coord = pd.read_csv('Data/supermarket_coordinates.csv')\n",
    "supermarket_coord.drop_duplicates(subset=['address'], inplace=True)\n",
    "supermarket_coord = supermarket_coord[['SEARCHVAL','LATITUDE','LONGITUDE']]\n",
    "supermarket_coord.head()"
   ]
  },
  {
   "cell_type": "code",
   "execution_count": 21,
   "metadata": {
    "tags": []
   },
   "outputs": [
    {
     "output_type": "display_data",
     "data": {
      "text/plain": "  0%|          | 0/11634 [00:00<?, ?it/s]",
      "application/vnd.jupyter.widget-view+json": {
       "version_major": 2,
       "version_minor": 0,
       "model_id": "a97917d8b6b248f0ac5fe53237ab1714"
      }
     },
     "metadata": {}
    },
    {
     "output_type": "execute_result",
     "data": {
      "text/plain": [
       "                  flat supermarket_dist num_supermarket_2km\n",
       "0  106 WOODLANDS ST 13         0.523687                   8\n",
       "1    213B PUNGGOL WALK         0.355258                  20\n",
       "2         8 EMPRESS RD         0.968347                  15\n",
       "3     636 YISHUN ST 61         0.541394                  16\n",
       "4  258B COMPASSVALE RD         0.263168                  19"
      ],
      "text/html": "<div>\n<style scoped>\n    .dataframe tbody tr th:only-of-type {\n        vertical-align: middle;\n    }\n\n    .dataframe tbody tr th {\n        vertical-align: top;\n    }\n\n    .dataframe thead th {\n        text-align: right;\n    }\n</style>\n<table border=\"1\" class=\"dataframe\">\n  <thead>\n    <tr style=\"text-align: right;\">\n      <th></th>\n      <th>flat</th>\n      <th>supermarket_dist</th>\n      <th>num_supermarket_2km</th>\n    </tr>\n  </thead>\n  <tbody>\n    <tr>\n      <th>0</th>\n      <td>106 WOODLANDS ST 13</td>\n      <td>0.523687</td>\n      <td>8</td>\n    </tr>\n    <tr>\n      <th>1</th>\n      <td>213B PUNGGOL WALK</td>\n      <td>0.355258</td>\n      <td>20</td>\n    </tr>\n    <tr>\n      <th>2</th>\n      <td>8 EMPRESS RD</td>\n      <td>0.968347</td>\n      <td>15</td>\n    </tr>\n    <tr>\n      <th>3</th>\n      <td>636 YISHUN ST 61</td>\n      <td>0.541394</td>\n      <td>16</td>\n    </tr>\n    <tr>\n      <th>4</th>\n      <td>258B COMPASSVALE RD</td>\n      <td>0.263168</td>\n      <td>19</td>\n    </tr>\n  </tbody>\n</table>\n</div>"
     },
     "metadata": {},
     "execution_count": 21
    }
   ],
   "source": [
    "nearest_supermarket = find_nearest(flat_coord, supermarket_coord)\n",
    "flat_supermarket = pd.DataFrame.from_dict(nearest_supermarket).T\n",
    "flat_supermarket = flat_supermarket.rename(columns={0: 'flat', 1: 'supermarket', 2: 'supermarket_dist', 3: 'num_supermarket_2km'}).reset_index().drop(['index','supermarket'], axis=1)\n",
    "flat_supermarket.head()"
   ]
  },
  {
   "cell_type": "code",
   "execution_count": 22,
   "metadata": {},
   "outputs": [],
   "source": [
    "flat_supermarket.to_csv('./Data_coord/flat_supermarket.csv')"
   ]
  },
  {
   "source": [
    "## Schools"
   ],
   "cell_type": "markdown",
   "metadata": {}
  },
  {
   "cell_type": "code",
   "execution_count": 23,
   "metadata": {},
   "outputs": [
    {
     "output_type": "execute_result",
     "data": {
      "text/plain": [
       "                    school_name                       address postal_code\n",
       "0      ADMIRALTY PRIMARY SCHOOL         11   WOODLANDS CIRCLE      738907\n",
       "1  AHMAD IBRAHIM PRIMARY SCHOOL         10   YISHUN STREET 11      768643\n",
       "2                AI TONG SCHOOL        100  Bright Hill Drive      579646\n",
       "3      ALEXANDRA PRIMARY SCHOOL  2A   Prince Charles Crescent      159016\n",
       "4   ANCHOR GREEN PRIMARY SCHOOL         31   Anchorvale Drive      544969"
      ],
      "text/html": "<div>\n<style scoped>\n    .dataframe tbody tr th:only-of-type {\n        vertical-align: middle;\n    }\n\n    .dataframe tbody tr th {\n        vertical-align: top;\n    }\n\n    .dataframe thead th {\n        text-align: right;\n    }\n</style>\n<table border=\"1\" class=\"dataframe\">\n  <thead>\n    <tr style=\"text-align: right;\">\n      <th></th>\n      <th>school_name</th>\n      <th>address</th>\n      <th>postal_code</th>\n    </tr>\n  </thead>\n  <tbody>\n    <tr>\n      <th>0</th>\n      <td>ADMIRALTY PRIMARY SCHOOL</td>\n      <td>11   WOODLANDS CIRCLE</td>\n      <td>738907</td>\n    </tr>\n    <tr>\n      <th>1</th>\n      <td>AHMAD IBRAHIM PRIMARY SCHOOL</td>\n      <td>10   YISHUN STREET 11</td>\n      <td>768643</td>\n    </tr>\n    <tr>\n      <th>2</th>\n      <td>AI TONG SCHOOL</td>\n      <td>100  Bright Hill Drive</td>\n      <td>579646</td>\n    </tr>\n    <tr>\n      <th>3</th>\n      <td>ALEXANDRA PRIMARY SCHOOL</td>\n      <td>2A   Prince Charles Crescent</td>\n      <td>159016</td>\n    </tr>\n    <tr>\n      <th>4</th>\n      <td>ANCHOR GREEN PRIMARY SCHOOL</td>\n      <td>31   Anchorvale Drive</td>\n      <td>544969</td>\n    </tr>\n  </tbody>\n</table>\n</div>"
     },
     "metadata": {},
     "execution_count": 23
    }
   ],
   "source": [
    "df_primaryschool = pd.read_csv('./data_gov/general-information-of-schools.csv')\n",
    "df_primaryschool['postal_code'] = df_primaryschool['postal_code'].apply(str)\n",
    "df_primaryschool.head()"
   ]
  },
  {
   "cell_type": "code",
   "execution_count": 24,
   "metadata": {},
   "outputs": [
    {
     "output_type": "stream",
     "name": "stdout",
     "text": [
      "no. of schools: 183\n"
     ]
    }
   ],
   "source": [
    "school_address = list(df_primaryschool['postal_code'])\n",
    "unique_school_address = list(set(school_address))\n",
    "print(\"no. of schools:\", len(unique_school_address))"
   ]
  },
  {
   "cell_type": "code",
   "execution_count": 25,
   "metadata": {},
   "outputs": [
    {
     "output_type": "display_data",
     "data": {
      "text/plain": "  0%|          | 0/183 [00:00<?, ?it/s]",
      "application/vnd.jupyter.widget-view+json": {
       "version_major": 2,
       "version_minor": 0,
       "model_id": "442b7106a1c94fd18381613d7ff58b9d"
      }
     },
     "metadata": {}
    }
   ],
   "source": [
    "find_postal(unique_school_address,'Data/school_coordinates')"
   ]
  },
  {
   "cell_type": "code",
   "execution_count": 26,
   "metadata": {},
   "outputs": [
    {
     "output_type": "execute_result",
     "data": {
      "text/plain": [
       "   address  LATITUDE   LONGITUDE\n",
       "0   689762  1.381431  103.747154\n",
       "1   689762  1.381767  103.747290\n",
       "2   659243  1.354155  103.754210\n",
       "3   659243  1.354242  103.754166\n",
       "4   768643  1.433681  103.832924"
      ],
      "text/html": "<div>\n<style scoped>\n    .dataframe tbody tr th:only-of-type {\n        vertical-align: middle;\n    }\n\n    .dataframe tbody tr th {\n        vertical-align: top;\n    }\n\n    .dataframe thead th {\n        text-align: right;\n    }\n</style>\n<table border=\"1\" class=\"dataframe\">\n  <thead>\n    <tr style=\"text-align: right;\">\n      <th></th>\n      <th>address</th>\n      <th>LATITUDE</th>\n      <th>LONGITUDE</th>\n    </tr>\n  </thead>\n  <tbody>\n    <tr>\n      <th>0</th>\n      <td>689762</td>\n      <td>1.381431</td>\n      <td>103.747154</td>\n    </tr>\n    <tr>\n      <th>1</th>\n      <td>689762</td>\n      <td>1.381767</td>\n      <td>103.747290</td>\n    </tr>\n    <tr>\n      <th>2</th>\n      <td>659243</td>\n      <td>1.354155</td>\n      <td>103.754210</td>\n    </tr>\n    <tr>\n      <th>3</th>\n      <td>659243</td>\n      <td>1.354242</td>\n      <td>103.754166</td>\n    </tr>\n    <tr>\n      <th>4</th>\n      <td>768643</td>\n      <td>1.433681</td>\n      <td>103.832924</td>\n    </tr>\n  </tbody>\n</table>\n</div>"
     },
     "metadata": {},
     "execution_count": 26
    }
   ],
   "source": [
    "school_coord = pd.read_csv('Data/school_coordinates.csv')\n",
    "school_coord = school_coord[['address','LATITUDE','LONGITUDE']]\n",
    "school_coord.head()"
   ]
  },
  {
   "cell_type": "code",
   "execution_count": 27,
   "metadata": {},
   "outputs": [
    {
     "output_type": "display_data",
     "data": {
      "text/plain": "  0%|          | 0/11634 [00:00<?, ?it/s]",
      "application/vnd.jupyter.widget-view+json": {
       "version_major": 2,
       "version_minor": 0,
       "model_id": "e34be66f05194dae8471567f9874533d"
      }
     },
     "metadata": {}
    },
    {
     "output_type": "execute_result",
     "data": {
      "text/plain": [
       "                  flat  school school_dist num_school_2km\n",
       "0  106 WOODLANDS ST 13  739067    0.599142             18\n",
       "1    213B PUNGGOL WALK  828772   0.0876203             40\n",
       "2         8 EMPRESS RD  268097    0.575657              6\n",
       "3     636 YISHUN ST 61  769026    0.234271             18\n",
       "4  258B COMPASSVALE RD  545091    0.176495             44"
      ],
      "text/html": "<div>\n<style scoped>\n    .dataframe tbody tr th:only-of-type {\n        vertical-align: middle;\n    }\n\n    .dataframe tbody tr th {\n        vertical-align: top;\n    }\n\n    .dataframe thead th {\n        text-align: right;\n    }\n</style>\n<table border=\"1\" class=\"dataframe\">\n  <thead>\n    <tr style=\"text-align: right;\">\n      <th></th>\n      <th>flat</th>\n      <th>school</th>\n      <th>school_dist</th>\n      <th>num_school_2km</th>\n    </tr>\n  </thead>\n  <tbody>\n    <tr>\n      <th>0</th>\n      <td>106 WOODLANDS ST 13</td>\n      <td>739067</td>\n      <td>0.599142</td>\n      <td>18</td>\n    </tr>\n    <tr>\n      <th>1</th>\n      <td>213B PUNGGOL WALK</td>\n      <td>828772</td>\n      <td>0.0876203</td>\n      <td>40</td>\n    </tr>\n    <tr>\n      <th>2</th>\n      <td>8 EMPRESS RD</td>\n      <td>268097</td>\n      <td>0.575657</td>\n      <td>6</td>\n    </tr>\n    <tr>\n      <th>3</th>\n      <td>636 YISHUN ST 61</td>\n      <td>769026</td>\n      <td>0.234271</td>\n      <td>18</td>\n    </tr>\n    <tr>\n      <th>4</th>\n      <td>258B COMPASSVALE RD</td>\n      <td>545091</td>\n      <td>0.176495</td>\n      <td>44</td>\n    </tr>\n  </tbody>\n</table>\n</div>"
     },
     "metadata": {},
     "execution_count": 27
    }
   ],
   "source": [
    "nearest_school = find_nearest(flat_coord, school_coord)\n",
    "flat_school = pd.DataFrame.from_dict(nearest_school).T\n",
    "flat_school = flat_school.rename(columns={0: 'flat', 1: 'school', 2: 'school_dist', 3: 'num_school_2km'}).reset_index().drop('index', axis=1)\n",
    "flat_school.head()"
   ]
  },
  {
   "cell_type": "code",
   "execution_count": 28,
   "metadata": {},
   "outputs": [],
   "source": [
    "flat_school.to_csv('./Data_coord/flat_school.csv')"
   ]
  },
  {
   "source": [
    "## Hawker and Markets"
   ],
   "cell_type": "markdown",
   "metadata": {}
  },
  {
   "cell_type": "code",
   "execution_count": 29,
   "metadata": {},
   "outputs": [
    {
     "output_type": "execute_result",
     "data": {
      "text/plain": [
       "                   name_of_centre  \\\n",
       "0           Adam Road Food Centre   \n",
       "1         Amoy Street Food Centre   \n",
       "2               Bedok Food Centre   \n",
       "3             Beo Crescent Market   \n",
       "4              Berseh Food Centre   \n",
       "5              Bukit Timah Market   \n",
       "6         Chomp Chomp Food Centre   \n",
       "7    Commonwealth Crescent Market   \n",
       "8              Dunman Food Centre   \n",
       "9  East Coast Lagoon Food Village   \n",
       "\n",
       "                                  location_of_centre type_of_centre  \\\n",
       "0                            2, Adam Road, S(289876)             HC   \n",
       "1  National Development Building, Annex B, Telok ...             HC   \n",
       "2                           1, Bedok Road, S(469572)             HC   \n",
       "3                       38A, Beo Crescent, S(169982)            MHC   \n",
       "4                        166, Jalan Besar, S(208877)             HC   \n",
       "5              51, Upper Bukit Timah Road, S(588215)            MHC   \n",
       "6                20, Kensington Park Road, S(557269)             HC   \n",
       "7               31, Commonwealth Crescent, S(149644)            MHC   \n",
       "8                          271, Onan Road, S(424768)             HC   \n",
       "9                1220, East Coast Parkway, S(468960)             HC   \n",
       "\n",
       "        owner  no_of_stalls  no_of_cooked_food_stalls  \\\n",
       "0  Government            32                        32   \n",
       "1  Government           135                       134   \n",
       "2  Government            32                        32   \n",
       "3  Government            94                        32   \n",
       "4  Government            66                        66   \n",
       "5  Government           179                        84   \n",
       "6  Government            36                        36   \n",
       "7  Government           102                        39   \n",
       "8  Government            30                        30   \n",
       "9  Government            63                        63   \n",
       "\n",
       "   no_of_mkt_produce_stalls  \n",
       "0                         0  \n",
       "1                         1  \n",
       "2                         0  \n",
       "3                        62  \n",
       "4                         0  \n",
       "5                        95  \n",
       "6                         0  \n",
       "7                        63  \n",
       "8                         0  \n",
       "9                         0  "
      ],
      "text/html": "<div>\n<style scoped>\n    .dataframe tbody tr th:only-of-type {\n        vertical-align: middle;\n    }\n\n    .dataframe tbody tr th {\n        vertical-align: top;\n    }\n\n    .dataframe thead th {\n        text-align: right;\n    }\n</style>\n<table border=\"1\" class=\"dataframe\">\n  <thead>\n    <tr style=\"text-align: right;\">\n      <th></th>\n      <th>name_of_centre</th>\n      <th>location_of_centre</th>\n      <th>type_of_centre</th>\n      <th>owner</th>\n      <th>no_of_stalls</th>\n      <th>no_of_cooked_food_stalls</th>\n      <th>no_of_mkt_produce_stalls</th>\n    </tr>\n  </thead>\n  <tbody>\n    <tr>\n      <th>0</th>\n      <td>Adam Road Food Centre</td>\n      <td>2, Adam Road, S(289876)</td>\n      <td>HC</td>\n      <td>Government</td>\n      <td>32</td>\n      <td>32</td>\n      <td>0</td>\n    </tr>\n    <tr>\n      <th>1</th>\n      <td>Amoy Street Food Centre</td>\n      <td>National Development Building, Annex B, Telok ...</td>\n      <td>HC</td>\n      <td>Government</td>\n      <td>135</td>\n      <td>134</td>\n      <td>1</td>\n    </tr>\n    <tr>\n      <th>2</th>\n      <td>Bedok Food Centre</td>\n      <td>1, Bedok Road, S(469572)</td>\n      <td>HC</td>\n      <td>Government</td>\n      <td>32</td>\n      <td>32</td>\n      <td>0</td>\n    </tr>\n    <tr>\n      <th>3</th>\n      <td>Beo Crescent Market</td>\n      <td>38A, Beo Crescent, S(169982)</td>\n      <td>MHC</td>\n      <td>Government</td>\n      <td>94</td>\n      <td>32</td>\n      <td>62</td>\n    </tr>\n    <tr>\n      <th>4</th>\n      <td>Berseh Food Centre</td>\n      <td>166, Jalan Besar, S(208877)</td>\n      <td>HC</td>\n      <td>Government</td>\n      <td>66</td>\n      <td>66</td>\n      <td>0</td>\n    </tr>\n    <tr>\n      <th>5</th>\n      <td>Bukit Timah Market</td>\n      <td>51, Upper Bukit Timah Road, S(588215)</td>\n      <td>MHC</td>\n      <td>Government</td>\n      <td>179</td>\n      <td>84</td>\n      <td>95</td>\n    </tr>\n    <tr>\n      <th>6</th>\n      <td>Chomp Chomp Food Centre</td>\n      <td>20, Kensington Park Road, S(557269)</td>\n      <td>HC</td>\n      <td>Government</td>\n      <td>36</td>\n      <td>36</td>\n      <td>0</td>\n    </tr>\n    <tr>\n      <th>7</th>\n      <td>Commonwealth Crescent Market</td>\n      <td>31, Commonwealth Crescent, S(149644)</td>\n      <td>MHC</td>\n      <td>Government</td>\n      <td>102</td>\n      <td>39</td>\n      <td>63</td>\n    </tr>\n    <tr>\n      <th>8</th>\n      <td>Dunman Food Centre</td>\n      <td>271, Onan Road, S(424768)</td>\n      <td>HC</td>\n      <td>Government</td>\n      <td>30</td>\n      <td>30</td>\n      <td>0</td>\n    </tr>\n    <tr>\n      <th>9</th>\n      <td>East Coast Lagoon Food Village</td>\n      <td>1220, East Coast Parkway, S(468960)</td>\n      <td>HC</td>\n      <td>Government</td>\n      <td>63</td>\n      <td>63</td>\n      <td>0</td>\n    </tr>\n  </tbody>\n</table>\n</div>"
     },
     "metadata": {},
     "execution_count": 29
    }
   ],
   "source": [
    "df_hawker = pd.read_csv('data_gov/list-of-government-markets-hawker-centres.csv')\n",
    "df_hawker.head(10)"
   ]
  },
  {
   "cell_type": "code",
   "execution_count": 30,
   "metadata": {},
   "outputs": [
    {
     "output_type": "stream",
     "name": "stdout",
     "text": [
      "Unique addresses: 107\n"
     ]
    }
   ],
   "source": [
    "hawker_name = list(df_hawker['name_of_centre'])\n",
    "unique_hawker_name = list(set(hawker_name))\n",
    "\n",
    "print('Unique addresses:', len(unique_hawker_name))"
   ]
  },
  {
   "cell_type": "code",
   "execution_count": 31,
   "metadata": {},
   "outputs": [
    {
     "output_type": "display_data",
     "data": {
      "text/plain": "  0%|          | 0/107 [00:00<?, ?it/s]",
      "application/vnd.jupyter.widget-view+json": {
       "version_major": 2,
       "version_minor": 0,
       "model_id": "cc67dd45b95e46b484c2e0ab9ebae4d0"
      }
     },
     "metadata": {}
    }
   ],
   "source": [
    "find_postal(unique_hawker_name, 'Data/hawker_coordinates')"
   ]
  },
  {
   "cell_type": "code",
   "execution_count": 32,
   "metadata": {},
   "outputs": [
    {
     "output_type": "execute_result",
     "data": {
      "text/plain": [
       "                        address  LATITUDE   LONGITUDE\n",
       "0  Blk 538 Bedok North Street 3  1.331797  103.925082\n",
       "1            Newton Food Centre  1.312114  103.839813\n",
       "2            Newton Food Centre  1.312186  103.839412\n",
       "3            Newton Food Centre  1.311892  103.839563\n",
       "4        Blk 117 Aljunied Ave 2  1.320781  103.886774"
      ],
      "text/html": "<div>\n<style scoped>\n    .dataframe tbody tr th:only-of-type {\n        vertical-align: middle;\n    }\n\n    .dataframe tbody tr th {\n        vertical-align: top;\n    }\n\n    .dataframe thead th {\n        text-align: right;\n    }\n</style>\n<table border=\"1\" class=\"dataframe\">\n  <thead>\n    <tr style=\"text-align: right;\">\n      <th></th>\n      <th>address</th>\n      <th>LATITUDE</th>\n      <th>LONGITUDE</th>\n    </tr>\n  </thead>\n  <tbody>\n    <tr>\n      <th>0</th>\n      <td>Blk 538 Bedok North Street 3</td>\n      <td>1.331797</td>\n      <td>103.925082</td>\n    </tr>\n    <tr>\n      <th>1</th>\n      <td>Newton Food Centre</td>\n      <td>1.312114</td>\n      <td>103.839813</td>\n    </tr>\n    <tr>\n      <th>2</th>\n      <td>Newton Food Centre</td>\n      <td>1.312186</td>\n      <td>103.839412</td>\n    </tr>\n    <tr>\n      <th>3</th>\n      <td>Newton Food Centre</td>\n      <td>1.311892</td>\n      <td>103.839563</td>\n    </tr>\n    <tr>\n      <th>4</th>\n      <td>Blk 117 Aljunied Ave 2</td>\n      <td>1.320781</td>\n      <td>103.886774</td>\n    </tr>\n  </tbody>\n</table>\n</div>"
     },
     "metadata": {},
     "execution_count": 32
    }
   ],
   "source": [
    "hawker_coord = pd.read_csv('Data/hawker_coordinates.csv')\n",
    "hawker_coord = hawker_coord[['address','LATITUDE','LONGITUDE']]\n",
    "hawker_coord.head()"
   ]
  },
  {
   "cell_type": "code",
   "execution_count": 33,
   "metadata": {},
   "outputs": [
    {
     "output_type": "display_data",
     "data": {
      "text/plain": "  0%|          | 0/11634 [00:00<?, ?it/s]",
      "application/vnd.jupyter.widget-view+json": {
       "version_major": 2,
       "version_minor": 0,
       "model_id": "d091660e503e4815998046bbae07e70f"
      }
     },
     "metadata": {}
    },
    {
     "output_type": "execute_result",
     "data": {
      "text/plain": [
       "                  flat                           hawker hawker_dist  \\\n",
       "0  106 WOODLANDS ST 13        Blks 20/21 Marsiling Lane    0.940258   \n",
       "1    213B PUNGGOL WALK       Kovan Market & Food Centre     4.80554   \n",
       "2         8 EMPRESS RD     Commonwealth Crescent Market     1.16977   \n",
       "3     636 YISHUN ST 61  Chong Pang Market & Food Centre     1.77527   \n",
       "4  258B COMPASSVALE RD       Kovan Market & Food Centre     3.94541   \n",
       "\n",
       "  num_hawker_2km  \n",
       "0              2  \n",
       "1              0  \n",
       "2              5  \n",
       "3              2  \n",
       "4              0  "
      ],
      "text/html": "<div>\n<style scoped>\n    .dataframe tbody tr th:only-of-type {\n        vertical-align: middle;\n    }\n\n    .dataframe tbody tr th {\n        vertical-align: top;\n    }\n\n    .dataframe thead th {\n        text-align: right;\n    }\n</style>\n<table border=\"1\" class=\"dataframe\">\n  <thead>\n    <tr style=\"text-align: right;\">\n      <th></th>\n      <th>flat</th>\n      <th>hawker</th>\n      <th>hawker_dist</th>\n      <th>num_hawker_2km</th>\n    </tr>\n  </thead>\n  <tbody>\n    <tr>\n      <th>0</th>\n      <td>106 WOODLANDS ST 13</td>\n      <td>Blks 20/21 Marsiling Lane</td>\n      <td>0.940258</td>\n      <td>2</td>\n    </tr>\n    <tr>\n      <th>1</th>\n      <td>213B PUNGGOL WALK</td>\n      <td>Kovan Market &amp; Food Centre</td>\n      <td>4.80554</td>\n      <td>0</td>\n    </tr>\n    <tr>\n      <th>2</th>\n      <td>8 EMPRESS RD</td>\n      <td>Commonwealth Crescent Market</td>\n      <td>1.16977</td>\n      <td>5</td>\n    </tr>\n    <tr>\n      <th>3</th>\n      <td>636 YISHUN ST 61</td>\n      <td>Chong Pang Market &amp; Food Centre</td>\n      <td>1.77527</td>\n      <td>2</td>\n    </tr>\n    <tr>\n      <th>4</th>\n      <td>258B COMPASSVALE RD</td>\n      <td>Kovan Market &amp; Food Centre</td>\n      <td>3.94541</td>\n      <td>0</td>\n    </tr>\n  </tbody>\n</table>\n</div>"
     },
     "metadata": {},
     "execution_count": 33
    }
   ],
   "source": [
    "nearest_hawker = find_nearest(flat_coord, hawker_coord)\n",
    "flat_hawker = pd.DataFrame.from_dict(nearest_hawker).T\n",
    "flat_hawker = flat_hawker.rename(columns={0: 'flat', 1: 'hawker', 2: 'hawker_dist', 3: 'num_hawker_2km'}).reset_index().drop('index', axis=1)\n",
    "flat_hawker.head()"
   ]
  },
  {
   "cell_type": "code",
   "execution_count": 34,
   "metadata": {},
   "outputs": [],
   "source": [
    "flat_hawker.to_csv('./Data_coord/flat_hawker.csv')"
   ]
  },
  {
   "source": [
    "## Shopping Malls"
   ],
   "cell_type": "markdown",
   "metadata": {}
  },
  {
   "cell_type": "code",
   "execution_count": 35,
   "metadata": {},
   "outputs": [
    {
     "output_type": "execute_result",
     "data": {
      "text/plain": [
       "                             name\n",
       "0                          100 AM\n",
       "1                    313@Somerset\n",
       "2                          Aperia\n",
       "3  Balestier Hill Shopping Centre\n",
       "4                      Bugis Cube"
      ],
      "text/html": "<div>\n<style scoped>\n    .dataframe tbody tr th:only-of-type {\n        vertical-align: middle;\n    }\n\n    .dataframe tbody tr th {\n        vertical-align: top;\n    }\n\n    .dataframe thead th {\n        text-align: right;\n    }\n</style>\n<table border=\"1\" class=\"dataframe\">\n  <thead>\n    <tr style=\"text-align: right;\">\n      <th></th>\n      <th>name</th>\n    </tr>\n  </thead>\n  <tbody>\n    <tr>\n      <th>0</th>\n      <td>100 AM</td>\n    </tr>\n    <tr>\n      <th>1</th>\n      <td>313@Somerset</td>\n    </tr>\n    <tr>\n      <th>2</th>\n      <td>Aperia</td>\n    </tr>\n    <tr>\n      <th>3</th>\n      <td>Balestier Hill Shopping Centre</td>\n    </tr>\n    <tr>\n      <th>4</th>\n      <td>Bugis Cube</td>\n    </tr>\n  </tbody>\n</table>\n</div>"
     },
     "metadata": {},
     "execution_count": 35
    }
   ],
   "source": [
    "df_shop = pd.read_csv('./data_other/shoppingmalls.csv')\n",
    "df_shop.head()"
   ]
  },
  {
   "cell_type": "code",
   "execution_count": 36,
   "metadata": {},
   "outputs": [
    {
     "output_type": "stream",
     "name": "stdout",
     "text": [
      "Unique addresses: 176\n"
     ]
    }
   ],
   "source": [
    "shop_name = list(df_shop['name'])\n",
    "unique_shop_name = list(set(shop_name))\n",
    "\n",
    "print('Unique addresses:', len(unique_shop_name))"
   ]
  },
  {
   "cell_type": "code",
   "execution_count": 37,
   "metadata": {},
   "outputs": [
    {
     "output_type": "display_data",
     "data": {
      "text/plain": "  0%|          | 0/176 [00:00<?, ?it/s]",
      "application/vnd.jupyter.widget-view+json": {
       "version_major": 2,
       "version_minor": 0,
       "model_id": "457294754cac444680970e21cd0da940"
      }
     },
     "metadata": {}
    },
    {
     "output_type": "stream",
     "name": "stdout",
     "text": [
      "JSONDecodeError\n"
     ]
    }
   ],
   "source": [
    "find_postal(unique_shop_name, 'Data/shoppingmall_coordinates')"
   ]
  },
  {
   "cell_type": "code",
   "execution_count": 38,
   "metadata": {},
   "outputs": [
    {
     "output_type": "execute_result",
     "data": {
      "text/plain": [
       "               address  LATITUDE   LONGITUDE\n",
       "0          Liat Towers  1.305108  103.830728\n",
       "1      The Centrepoint  1.301978  103.839759\n",
       "4       Capitol Piazza  1.293063  103.851293\n",
       "5             Square 2  1.278307  103.850795\n",
       "10  Palais Renaissance  1.306655  103.829588"
      ],
      "text/html": "<div>\n<style scoped>\n    .dataframe tbody tr th:only-of-type {\n        vertical-align: middle;\n    }\n\n    .dataframe tbody tr th {\n        vertical-align: top;\n    }\n\n    .dataframe thead th {\n        text-align: right;\n    }\n</style>\n<table border=\"1\" class=\"dataframe\">\n  <thead>\n    <tr style=\"text-align: right;\">\n      <th></th>\n      <th>address</th>\n      <th>LATITUDE</th>\n      <th>LONGITUDE</th>\n    </tr>\n  </thead>\n  <tbody>\n    <tr>\n      <th>0</th>\n      <td>Liat Towers</td>\n      <td>1.305108</td>\n      <td>103.830728</td>\n    </tr>\n    <tr>\n      <th>1</th>\n      <td>The Centrepoint</td>\n      <td>1.301978</td>\n      <td>103.839759</td>\n    </tr>\n    <tr>\n      <th>4</th>\n      <td>Capitol Piazza</td>\n      <td>1.293063</td>\n      <td>103.851293</td>\n    </tr>\n    <tr>\n      <th>5</th>\n      <td>Square 2</td>\n      <td>1.278307</td>\n      <td>103.850795</td>\n    </tr>\n    <tr>\n      <th>10</th>\n      <td>Palais Renaissance</td>\n      <td>1.306655</td>\n      <td>103.829588</td>\n    </tr>\n  </tbody>\n</table>\n</div>"
     },
     "metadata": {},
     "execution_count": 38
    }
   ],
   "source": [
    "shop_coord = pd.read_csv('Data/shoppingmall_coordinates.csv')\n",
    "shop_coord.drop_duplicates(subset=['address'], inplace=True)\n",
    "shop_coord = shop_coord[['address','LATITUDE','LONGITUDE']]\n",
    "shop_coord.head()"
   ]
  },
  {
   "cell_type": "code",
   "execution_count": 67,
   "metadata": {},
   "outputs": [
    {
     "output_type": "display_data",
     "data": {
      "text/plain": "  0%|          | 0/11634 [00:00<?, ?it/s]",
      "application/vnd.jupyter.widget-view+json": {
       "version_major": 2,
       "version_minor": 0,
       "model_id": "8fd23549899c49bb9160004a4044509f"
      }
     },
     "metadata": {}
    },
    {
     "output_type": "execute_result",
     "data": {
      "text/plain": [
       "                  flat            mall mall_dist num_mall_2km\n",
       "0  106 WOODLANDS ST 13  Causeway Point   0.43555            6\n",
       "1    213B PUNGGOL WALK  Waterway Point  0.753017            6\n",
       "2         8 EMPRESS RD  The Star Vista   2.15634            0\n",
       "3     636 YISHUN ST 61   Wisteria Mall  0.292174            3\n",
       "4  258B COMPASSVALE RD     Compass One  0.276868            7"
      ],
      "text/html": "<div>\n<style scoped>\n    .dataframe tbody tr th:only-of-type {\n        vertical-align: middle;\n    }\n\n    .dataframe tbody tr th {\n        vertical-align: top;\n    }\n\n    .dataframe thead th {\n        text-align: right;\n    }\n</style>\n<table border=\"1\" class=\"dataframe\">\n  <thead>\n    <tr style=\"text-align: right;\">\n      <th></th>\n      <th>flat</th>\n      <th>mall</th>\n      <th>mall_dist</th>\n      <th>num_mall_2km</th>\n    </tr>\n  </thead>\n  <tbody>\n    <tr>\n      <th>0</th>\n      <td>106 WOODLANDS ST 13</td>\n      <td>Causeway Point</td>\n      <td>0.43555</td>\n      <td>6</td>\n    </tr>\n    <tr>\n      <th>1</th>\n      <td>213B PUNGGOL WALK</td>\n      <td>Waterway Point</td>\n      <td>0.753017</td>\n      <td>6</td>\n    </tr>\n    <tr>\n      <th>2</th>\n      <td>8 EMPRESS RD</td>\n      <td>The Star Vista</td>\n      <td>2.15634</td>\n      <td>0</td>\n    </tr>\n    <tr>\n      <th>3</th>\n      <td>636 YISHUN ST 61</td>\n      <td>Wisteria Mall</td>\n      <td>0.292174</td>\n      <td>3</td>\n    </tr>\n    <tr>\n      <th>4</th>\n      <td>258B COMPASSVALE RD</td>\n      <td>Compass One</td>\n      <td>0.276868</td>\n      <td>7</td>\n    </tr>\n  </tbody>\n</table>\n</div>"
     },
     "metadata": {},
     "execution_count": 67
    }
   ],
   "source": [
    "nearest_mall = find_nearest(flat_coord, shop_coord)\n",
    "flat_mall = pd.DataFrame.from_dict(nearest_mall).T\n",
    "flat_mall = flat_mall.rename(columns={0: 'flat', 1: 'mall', 2: 'mall_dist', 3: 'num_mall_2km'}).reset_index().drop('index', axis=1)\n",
    "flat_mall.head()"
   ]
  },
  {
   "cell_type": "code",
   "execution_count": 68,
   "metadata": {},
   "outputs": [],
   "source": [
    "flat_mall.to_csv('./Data_coord/flat_mall.csv')"
   ]
  },
  {
   "source": [
    "## Parks"
   ],
   "cell_type": "markdown",
   "metadata": {}
  },
  {
   "cell_type": "code",
   "execution_count": 41,
   "metadata": {},
   "outputs": [
    {
     "output_type": "execute_result",
     "data": {
      "text/plain": [
       "   index         Y           X\n",
       "0      0  1.279077  103.798053\n",
       "1      1  1.357520  103.867429\n",
       "2      2  1.311501  103.898950\n",
       "3      3  1.321547  103.921504\n",
       "4      4  1.372526  103.829292"
      ],
      "text/html": "<div>\n<style scoped>\n    .dataframe tbody tr th:only-of-type {\n        vertical-align: middle;\n    }\n\n    .dataframe tbody tr th {\n        vertical-align: top;\n    }\n\n    .dataframe thead th {\n        text-align: right;\n    }\n</style>\n<table border=\"1\" class=\"dataframe\">\n  <thead>\n    <tr style=\"text-align: right;\">\n      <th></th>\n      <th>index</th>\n      <th>Y</th>\n      <th>X</th>\n    </tr>\n  </thead>\n  <tbody>\n    <tr>\n      <th>0</th>\n      <td>0</td>\n      <td>1.279077</td>\n      <td>103.798053</td>\n    </tr>\n    <tr>\n      <th>1</th>\n      <td>1</td>\n      <td>1.357520</td>\n      <td>103.867429</td>\n    </tr>\n    <tr>\n      <th>2</th>\n      <td>2</td>\n      <td>1.311501</td>\n      <td>103.898950</td>\n    </tr>\n    <tr>\n      <th>3</th>\n      <td>3</td>\n      <td>1.321547</td>\n      <td>103.921504</td>\n    </tr>\n    <tr>\n      <th>4</th>\n      <td>4</td>\n      <td>1.372526</td>\n      <td>103.829292</td>\n    </tr>\n  </tbody>\n</table>\n</div>"
     },
     "metadata": {},
     "execution_count": 41
    }
   ],
   "source": [
    "park_coord = pd.read_csv('data_other/nparks-parks-kml.csv')\n",
    "park_coord.reset_index(inplace=True)\n",
    "park_coord = park_coord[['index','Y','X']]\n",
    "park_coord.head()"
   ]
  },
  {
   "cell_type": "code",
   "execution_count": 42,
   "metadata": {},
   "outputs": [
    {
     "output_type": "display_data",
     "data": {
      "text/plain": "  0%|          | 0/11634 [00:00<?, ?it/s]",
      "application/vnd.jupyter.widget-view+json": {
       "version_major": 2,
       "version_minor": 0,
       "model_id": "47555ece700141f88c503447e7ccd5e1"
      }
     },
     "metadata": {}
    },
    {
     "output_type": "execute_result",
     "data": {
      "text/plain": [
       "                  flat park_dist num_park_2km\n",
       "0  106 WOODLANDS ST 13  0.311881            4\n",
       "1    213B PUNGGOL WALK   1.16783            3\n",
       "2         8 EMPRESS RD  0.305943           12\n",
       "3     636 YISHUN ST 61   0.67212            5\n",
       "4  258B COMPASSVALE RD  0.720714            3"
      ],
      "text/html": "<div>\n<style scoped>\n    .dataframe tbody tr th:only-of-type {\n        vertical-align: middle;\n    }\n\n    .dataframe tbody tr th {\n        vertical-align: top;\n    }\n\n    .dataframe thead th {\n        text-align: right;\n    }\n</style>\n<table border=\"1\" class=\"dataframe\">\n  <thead>\n    <tr style=\"text-align: right;\">\n      <th></th>\n      <th>flat</th>\n      <th>park_dist</th>\n      <th>num_park_2km</th>\n    </tr>\n  </thead>\n  <tbody>\n    <tr>\n      <th>0</th>\n      <td>106 WOODLANDS ST 13</td>\n      <td>0.311881</td>\n      <td>4</td>\n    </tr>\n    <tr>\n      <th>1</th>\n      <td>213B PUNGGOL WALK</td>\n      <td>1.16783</td>\n      <td>3</td>\n    </tr>\n    <tr>\n      <th>2</th>\n      <td>8 EMPRESS RD</td>\n      <td>0.305943</td>\n      <td>12</td>\n    </tr>\n    <tr>\n      <th>3</th>\n      <td>636 YISHUN ST 61</td>\n      <td>0.67212</td>\n      <td>5</td>\n    </tr>\n    <tr>\n      <th>4</th>\n      <td>258B COMPASSVALE RD</td>\n      <td>0.720714</td>\n      <td>3</td>\n    </tr>\n  </tbody>\n</table>\n</div>"
     },
     "metadata": {},
     "execution_count": 42
    }
   ],
   "source": [
    "nearest_park = find_nearest(flat_coord, park_coord)\n",
    "flat_park = pd.DataFrame.from_dict(nearest_park).T\n",
    "flat_park = flat_park.rename(columns={0: 'flat', 1: 'park', 2: 'park_dist', 3: 'num_park_2km'}).reset_index().drop(['index','park'], axis=1)\n",
    "flat_park.head()"
   ]
  },
  {
   "cell_type": "code",
   "execution_count": 43,
   "metadata": {},
   "outputs": [],
   "source": [
    "flat_park.to_csv('./Data_coord/flat_park.csv')"
   ]
  },
  {
   "source": [
    "## MRT"
   ],
   "cell_type": "markdown",
   "metadata": {}
  },
  {
   "cell_type": "code",
   "execution_count": 44,
   "metadata": {},
   "outputs": [
    {
     "output_type": "execute_result",
     "data": {
      "text/plain": [
       "   OBJECTID                STN_NAME STN_NO           X           Y  Latitude  \\\n",
       "0        12   ADMIRALTY MRT STATION   NS10  24402.1063  46918.1131  1.440585   \n",
       "1        16    ALJUNIED MRT STATION    EW9  33518.6049  33190.0020  1.316433   \n",
       "2        33  ANG MO KIO MRT STATION   NS16  29807.2655  39105.7720  1.369933   \n",
       "3        81       BAKAU LRT STATION    SE3  36026.0821  41113.8766  1.388093   \n",
       "4        80     BANGKIT LRT STATION    BP9  21248.2460  40220.9693  1.380018   \n",
       "\n",
       "    Longitude   COLOR  \n",
       "0  103.800998     RED  \n",
       "1  103.882893   GREEN  \n",
       "2  103.849553     RED  \n",
       "3  103.905418  OTHERS  \n",
       "4  103.772667  OTHERS  "
      ],
      "text/html": "<div>\n<style scoped>\n    .dataframe tbody tr th:only-of-type {\n        vertical-align: middle;\n    }\n\n    .dataframe tbody tr th {\n        vertical-align: top;\n    }\n\n    .dataframe thead th {\n        text-align: right;\n    }\n</style>\n<table border=\"1\" class=\"dataframe\">\n  <thead>\n    <tr style=\"text-align: right;\">\n      <th></th>\n      <th>OBJECTID</th>\n      <th>STN_NAME</th>\n      <th>STN_NO</th>\n      <th>X</th>\n      <th>Y</th>\n      <th>Latitude</th>\n      <th>Longitude</th>\n      <th>COLOR</th>\n    </tr>\n  </thead>\n  <tbody>\n    <tr>\n      <th>0</th>\n      <td>12</td>\n      <td>ADMIRALTY MRT STATION</td>\n      <td>NS10</td>\n      <td>24402.1063</td>\n      <td>46918.1131</td>\n      <td>1.440585</td>\n      <td>103.800998</td>\n      <td>RED</td>\n    </tr>\n    <tr>\n      <th>1</th>\n      <td>16</td>\n      <td>ALJUNIED MRT STATION</td>\n      <td>EW9</td>\n      <td>33518.6049</td>\n      <td>33190.0020</td>\n      <td>1.316433</td>\n      <td>103.882893</td>\n      <td>GREEN</td>\n    </tr>\n    <tr>\n      <th>2</th>\n      <td>33</td>\n      <td>ANG MO KIO MRT STATION</td>\n      <td>NS16</td>\n      <td>29807.2655</td>\n      <td>39105.7720</td>\n      <td>1.369933</td>\n      <td>103.849553</td>\n      <td>RED</td>\n    </tr>\n    <tr>\n      <th>3</th>\n      <td>81</td>\n      <td>BAKAU LRT STATION</td>\n      <td>SE3</td>\n      <td>36026.0821</td>\n      <td>41113.8766</td>\n      <td>1.388093</td>\n      <td>103.905418</td>\n      <td>OTHERS</td>\n    </tr>\n    <tr>\n      <th>4</th>\n      <td>80</td>\n      <td>BANGKIT LRT STATION</td>\n      <td>BP9</td>\n      <td>21248.2460</td>\n      <td>40220.9693</td>\n      <td>1.380018</td>\n      <td>103.772667</td>\n      <td>OTHERS</td>\n    </tr>\n  </tbody>\n</table>\n</div>"
     },
     "metadata": {},
     "execution_count": 44
    }
   ],
   "source": [
    "mrt_df = pd.read_csv('./data_other/mrtsg.csv')\n",
    "mrt_df.head()"
   ]
  },
  {
   "cell_type": "code",
   "execution_count": 45,
   "metadata": {},
   "outputs": [
    {
     "output_type": "stream",
     "name": "stdout",
     "text": [
      "no. of mrt: 166\n"
     ]
    }
   ],
   "source": [
    "mrt_address = list(mrt_df['STN_NAME'])\n",
    "unique_mrt_address = list(set(mrt_address))\n",
    "print(\"no. of mrt:\", len(unique_mrt_address))"
   ]
  },
  {
   "cell_type": "code",
   "execution_count": 46,
   "metadata": {},
   "outputs": [
    {
     "output_type": "display_data",
     "data": {
      "text/plain": "  0%|          | 0/166 [00:00<?, ?it/s]",
      "application/vnd.jupyter.widget-view+json": {
       "version_major": 2,
       "version_minor": 0,
       "model_id": "7b6cf15782504f71b554156dafd72bc2"
      }
     },
     "metadata": {}
    }
   ],
   "source": [
    "find_postal(unique_mrt_address,'Data/MRT_coordinates')"
   ]
  },
  {
   "cell_type": "code",
   "execution_count": 47,
   "metadata": {},
   "outputs": [
    {
     "output_type": "execute_result",
     "data": {
      "text/plain": [
       "841"
      ]
     },
     "metadata": {},
     "execution_count": 47
    }
   ],
   "source": [
    "mrt_coord = pd.read_csv('./Data/MRT_coordinates.csv')\n",
    "len(mrt_coord)"
   ]
  },
  {
   "cell_type": "code",
   "execution_count": 48,
   "metadata": {},
   "outputs": [
    {
     "output_type": "execute_result",
     "data": {
      "text/plain": [
       "                     SEARCHVAL  LATITUDE   LONGITUDE\n",
       "2  JOO KOON MRT STATION (EW29)  1.327717  103.678375\n",
       "3     UOB JOO KOON MRT STATION  1.327689  103.678240\n",
       "4     DBS JOO KOON MRT STATION  1.327694  103.678085\n",
       "5    OCBC JOO KOON MRT STATION  1.327686  103.678346\n",
       "8    MATTAR MRT STATION (DT25)  1.326877  103.883248"
      ],
      "text/html": "<div>\n<style scoped>\n    .dataframe tbody tr th:only-of-type {\n        vertical-align: middle;\n    }\n\n    .dataframe tbody tr th {\n        vertical-align: top;\n    }\n\n    .dataframe thead th {\n        text-align: right;\n    }\n</style>\n<table border=\"1\" class=\"dataframe\">\n  <thead>\n    <tr style=\"text-align: right;\">\n      <th></th>\n      <th>SEARCHVAL</th>\n      <th>LATITUDE</th>\n      <th>LONGITUDE</th>\n    </tr>\n  </thead>\n  <tbody>\n    <tr>\n      <th>2</th>\n      <td>JOO KOON MRT STATION (EW29)</td>\n      <td>1.327717</td>\n      <td>103.678375</td>\n    </tr>\n    <tr>\n      <th>3</th>\n      <td>UOB JOO KOON MRT STATION</td>\n      <td>1.327689</td>\n      <td>103.678240</td>\n    </tr>\n    <tr>\n      <th>4</th>\n      <td>DBS JOO KOON MRT STATION</td>\n      <td>1.327694</td>\n      <td>103.678085</td>\n    </tr>\n    <tr>\n      <th>5</th>\n      <td>OCBC JOO KOON MRT STATION</td>\n      <td>1.327686</td>\n      <td>103.678346</td>\n    </tr>\n    <tr>\n      <th>8</th>\n      <td>MATTAR MRT STATION (DT25)</td>\n      <td>1.326877</td>\n      <td>103.883248</td>\n    </tr>\n  </tbody>\n</table>\n</div>"
     },
     "metadata": {},
     "execution_count": 48
    }
   ],
   "source": [
    "nan_value = float(\"NaN\")\n",
    "mrt_coord.replace(\"\", nan_value, inplace=True)\n",
    "mrt_coord.dropna(subset = [\"BLK_NO\"], inplace=True)\n",
    "mrt_coord = mrt_coord[['SEARCHVAL', 'LATITUDE','LONGITUDE']]\n",
    "mrt_coord.head()"
   ]
  },
  {
   "cell_type": "code",
   "execution_count": 49,
   "metadata": {},
   "outputs": [
    {
     "output_type": "display_data",
     "data": {
      "text/plain": "  0%|          | 0/11634 [00:00<?, ?it/s]",
      "application/vnd.jupyter.widget-view+json": {
       "version_major": 2,
       "version_minor": 0,
       "model_id": "1b0992b61fa744d89acef441f870067f"
      }
     },
     "metadata": {}
    },
    {
     "output_type": "execute_result",
     "data": {
      "text/plain": [
       "                  flat                             mrt  mrt_dist num_mrt_2km\n",
       "0  106 WOODLANDS ST 13       UOB WOODLANDS MRT STATION  0.493527           9\n",
       "1    213B PUNGGOL WALK      SOO TECK LRT STATION (PW7)  0.526115          31\n",
       "2         8 EMPRESS RD  FARRER ROAD MRT STATION (CC20)  0.250424          21\n",
       "3     636 YISHUN ST 61          UOB KHATIB MRT STATION  0.737341           9\n",
       "4  258B COMPASSVALE RD       OCBC SENGKANG MRT STATION  0.246773          31"
      ],
      "text/html": "<div>\n<style scoped>\n    .dataframe tbody tr th:only-of-type {\n        vertical-align: middle;\n    }\n\n    .dataframe tbody tr th {\n        vertical-align: top;\n    }\n\n    .dataframe thead th {\n        text-align: right;\n    }\n</style>\n<table border=\"1\" class=\"dataframe\">\n  <thead>\n    <tr style=\"text-align: right;\">\n      <th></th>\n      <th>flat</th>\n      <th>mrt</th>\n      <th>mrt_dist</th>\n      <th>num_mrt_2km</th>\n    </tr>\n  </thead>\n  <tbody>\n    <tr>\n      <th>0</th>\n      <td>106 WOODLANDS ST 13</td>\n      <td>UOB WOODLANDS MRT STATION</td>\n      <td>0.493527</td>\n      <td>9</td>\n    </tr>\n    <tr>\n      <th>1</th>\n      <td>213B PUNGGOL WALK</td>\n      <td>SOO TECK LRT STATION (PW7)</td>\n      <td>0.526115</td>\n      <td>31</td>\n    </tr>\n    <tr>\n      <th>2</th>\n      <td>8 EMPRESS RD</td>\n      <td>FARRER ROAD MRT STATION (CC20)</td>\n      <td>0.250424</td>\n      <td>21</td>\n    </tr>\n    <tr>\n      <th>3</th>\n      <td>636 YISHUN ST 61</td>\n      <td>UOB KHATIB MRT STATION</td>\n      <td>0.737341</td>\n      <td>9</td>\n    </tr>\n    <tr>\n      <th>4</th>\n      <td>258B COMPASSVALE RD</td>\n      <td>OCBC SENGKANG MRT STATION</td>\n      <td>0.246773</td>\n      <td>31</td>\n    </tr>\n  </tbody>\n</table>\n</div>"
     },
     "metadata": {},
     "execution_count": 49
    }
   ],
   "source": [
    "nearest_mrt = find_nearest(flat_coord, mrt_coord)\n",
    "flat_mrt = pd.DataFrame.from_dict(nearest_mrt).T\n",
    "flat_mrt = flat_mrt.rename(columns={0: 'flat', 1: 'mrt', 2: 'mrt_dist', 3: 'num_mrt_2km'}).reset_index().drop('index', axis=1)\n",
    "flat_mrt.head()"
   ]
  },
  {
   "cell_type": "code",
   "execution_count": 50,
   "metadata": {},
   "outputs": [],
   "source": [
    "flat_mrt.to_csv('./Data_coord/flat_mrt.csv')"
   ]
  },
  {
   "source": [
    "## NPC"
   ],
   "cell_type": "markdown",
   "metadata": {}
  },
  {
   "cell_type": "code",
   "execution_count": 51,
   "metadata": {},
   "outputs": [],
   "source": [
    "crime = pd.read_csv('./data_gov/five-preventable-crime-cases-recorded-by-neighbourhood-police-centre-npc-annual.csv')"
   ]
  },
  {
   "cell_type": "code",
   "execution_count": 52,
   "metadata": {},
   "outputs": [
    {
     "output_type": "stream",
     "name": "stderr",
     "text": [
      "<ipython-input-52-9477880324bb>:5: SettingWithCopyWarning: \nA value is trying to be set on a copy of a slice from a DataFrame.\nTry using .loc[row_indexer,col_indexer] = value instead\n\nSee the caveats in the documentation: https://pandas.pydata.org/pandas-docs/stable/user_guide/indexing.html#returning-a-view-versus-a-copy\n  crime1['value'] = crime1['value'].astype(float)\n"
     ]
    },
    {
     "output_type": "execute_result",
     "data": {
      "text/plain": [
       "                    npc  year  value\n",
       "0  Bukit Merah East NPC  2017   89.0\n",
       "1        Marina Bay NPC  2017  134.0\n",
       "2            Rochor NPC  2017   89.0\n",
       "3  Bukit Merah West NPC  2017   64.0\n",
       "4          Clementi NPC  2017   50.0"
      ],
      "text/html": "<div>\n<style scoped>\n    .dataframe tbody tr th:only-of-type {\n        vertical-align: middle;\n    }\n\n    .dataframe tbody tr th {\n        vertical-align: top;\n    }\n\n    .dataframe thead th {\n        text-align: right;\n    }\n</style>\n<table border=\"1\" class=\"dataframe\">\n  <thead>\n    <tr style=\"text-align: right;\">\n      <th></th>\n      <th>npc</th>\n      <th>year</th>\n      <th>value</th>\n    </tr>\n  </thead>\n  <tbody>\n    <tr>\n      <th>0</th>\n      <td>Bukit Merah East NPC</td>\n      <td>2017</td>\n      <td>89.0</td>\n    </tr>\n    <tr>\n      <th>1</th>\n      <td>Marina Bay NPC</td>\n      <td>2017</td>\n      <td>134.0</td>\n    </tr>\n    <tr>\n      <th>2</th>\n      <td>Rochor NPC</td>\n      <td>2017</td>\n      <td>89.0</td>\n    </tr>\n    <tr>\n      <th>3</th>\n      <td>Bukit Merah West NPC</td>\n      <td>2017</td>\n      <td>64.0</td>\n    </tr>\n    <tr>\n      <th>4</th>\n      <td>Clementi NPC</td>\n      <td>2017</td>\n      <td>50.0</td>\n    </tr>\n  </tbody>\n</table>\n</div>"
     },
     "metadata": {},
     "execution_count": 52
    }
   ],
   "source": [
    "newcol = crime['level_1'].str.split(\" - \", expand = True)\n",
    "crime[\"npc\"]= newcol[1]\n",
    "crime['year'] = crime['year'].astype(int)\n",
    "crime1 = crime[(crime['year'] >= 2017) & (crime['npc'] != 'Total') & (crime['value'] != 'na') & (crime['value'] != '-')]\n",
    "crime1['value'] = crime1['value'].astype(float)\n",
    "crime2 = pd.DataFrame(crime1).reset_index()\n",
    "crime2.drop(['index','level_1'], axis=1,inplace=True)\n",
    "crime3 = crime2[['npc','year','value']]\n",
    "crime3.head(5)"
   ]
  },
  {
   "cell_type": "code",
   "execution_count": 53,
   "metadata": {},
   "outputs": [
    {
     "output_type": "stream",
     "name": "stdout",
     "text": [
      "no. of npc: 35\n"
     ]
    }
   ],
   "source": [
    "npc_address = list(crime3['npc'])\n",
    "unique_npc_address = list(set(npc_address))\n",
    "print(\"no. of npc:\", len(unique_npc_address))"
   ]
  },
  {
   "cell_type": "code",
   "execution_count": 54,
   "metadata": {},
   "outputs": [
    {
     "output_type": "display_data",
     "data": {
      "text/plain": "  0%|          | 0/35 [00:00<?, ?it/s]",
      "application/vnd.jupyter.widget-view+json": {
       "version_major": 2,
       "version_minor": 0,
       "model_id": "94a2f73fc3104fff972a05ecf0756e38"
      }
     },
     "metadata": {}
    }
   ],
   "source": [
    "find_postal(unique_npc_address,'Data/npc_coordinates')"
   ]
  },
  {
   "cell_type": "code",
   "execution_count": 55,
   "metadata": {},
   "outputs": [
    {
     "output_type": "execute_result",
     "data": {
      "text/plain": [
       "                                  SEARCHVAL  LATITUDE   LONGITUDE\n",
       "0    SERANGOON NEIGHBOURHOOD POLICE CENTRES  1.352018  103.870533\n",
       "2  YISHUN NORTH NEIGHBOURHOOD POLICE CENTRE  1.429343  103.840294\n",
       "3        ROCHOR NEIGHBOURHOOD POLICE CENTRE  1.307619  103.854219\n",
       "4    MARINA BAY NEIGHBOURHOOD POLICE CENTRE  1.274735  103.848994\n",
       "5       PUNGGOL NEIGHBOURHOOD POLICE CENTRE  1.394196  103.916943"
      ],
      "text/html": "<div>\n<style scoped>\n    .dataframe tbody tr th:only-of-type {\n        vertical-align: middle;\n    }\n\n    .dataframe tbody tr th {\n        vertical-align: top;\n    }\n\n    .dataframe thead th {\n        text-align: right;\n    }\n</style>\n<table border=\"1\" class=\"dataframe\">\n  <thead>\n    <tr style=\"text-align: right;\">\n      <th></th>\n      <th>SEARCHVAL</th>\n      <th>LATITUDE</th>\n      <th>LONGITUDE</th>\n    </tr>\n  </thead>\n  <tbody>\n    <tr>\n      <th>0</th>\n      <td>SERANGOON NEIGHBOURHOOD POLICE CENTRES</td>\n      <td>1.352018</td>\n      <td>103.870533</td>\n    </tr>\n    <tr>\n      <th>2</th>\n      <td>YISHUN NORTH NEIGHBOURHOOD POLICE CENTRE</td>\n      <td>1.429343</td>\n      <td>103.840294</td>\n    </tr>\n    <tr>\n      <th>3</th>\n      <td>ROCHOR NEIGHBOURHOOD POLICE CENTRE</td>\n      <td>1.307619</td>\n      <td>103.854219</td>\n    </tr>\n    <tr>\n      <th>4</th>\n      <td>MARINA BAY NEIGHBOURHOOD POLICE CENTRE</td>\n      <td>1.274735</td>\n      <td>103.848994</td>\n    </tr>\n    <tr>\n      <th>5</th>\n      <td>PUNGGOL NEIGHBOURHOOD POLICE CENTRE</td>\n      <td>1.394196</td>\n      <td>103.916943</td>\n    </tr>\n  </tbody>\n</table>\n</div>"
     },
     "metadata": {},
     "execution_count": 55
    }
   ],
   "source": [
    "npc_coord = pd.read_csv('./Data/npc_coordinates.csv')\n",
    "npc_coord.drop_duplicates(subset=['address'], inplace=True)\n",
    "npc_coord = npc_coord[['SEARCHVAL','LATITUDE','LONGITUDE']]\n",
    "npc_coord.head()"
   ]
  },
  {
   "cell_type": "code",
   "execution_count": 65,
   "metadata": {},
   "outputs": [
    {
     "output_type": "display_data",
     "data": {
      "text/plain": "  0%|          | 0/11634 [00:00<?, ?it/s]",
      "application/vnd.jupyter.widget-view+json": {
       "version_major": 2,
       "version_minor": 0,
       "model_id": "da52f72f4b9d45cd9e6cdbdb05e986f7"
      }
     },
     "metadata": {}
    },
    {
     "output_type": "execute_result",
     "data": {
      "text/plain": [
       "                  flat                                         npc  npc_dist  \\\n",
       "0  106 WOODLANDS ST 13  WOODLANDS WEST NEIGHBOURHOOD POLICE CENTRE  0.520801   \n",
       "1    213B PUNGGOL WALK        SENGKANG NEIGHBOURHOOD POLICE CENTRE   1.01454   \n",
       "2         8 EMPRESS RD     BUKIT TIMAH NEIGHBOURHOOD POLICE CENTRE   1.04703   \n",
       "3     636 YISHUN ST 61    YISHUN SOUTH NEIGHBOURHOOD POLICE CENTRE  0.696971   \n",
       "4  258B COMPASSVALE RD        SENGKANG NEIGHBOURHOOD POLICE CENTRE  0.389549   \n",
       "\n",
       "  num_npc_2km  \n",
       "0           1  \n",
       "1           1  \n",
       "2           1  \n",
       "3           2  \n",
       "4           1  "
      ],
      "text/html": "<div>\n<style scoped>\n    .dataframe tbody tr th:only-of-type {\n        vertical-align: middle;\n    }\n\n    .dataframe tbody tr th {\n        vertical-align: top;\n    }\n\n    .dataframe thead th {\n        text-align: right;\n    }\n</style>\n<table border=\"1\" class=\"dataframe\">\n  <thead>\n    <tr style=\"text-align: right;\">\n      <th></th>\n      <th>flat</th>\n      <th>npc</th>\n      <th>npc_dist</th>\n      <th>num_npc_2km</th>\n    </tr>\n  </thead>\n  <tbody>\n    <tr>\n      <th>0</th>\n      <td>106 WOODLANDS ST 13</td>\n      <td>WOODLANDS WEST NEIGHBOURHOOD POLICE CENTRE</td>\n      <td>0.520801</td>\n      <td>1</td>\n    </tr>\n    <tr>\n      <th>1</th>\n      <td>213B PUNGGOL WALK</td>\n      <td>SENGKANG NEIGHBOURHOOD POLICE CENTRE</td>\n      <td>1.01454</td>\n      <td>1</td>\n    </tr>\n    <tr>\n      <th>2</th>\n      <td>8 EMPRESS RD</td>\n      <td>BUKIT TIMAH NEIGHBOURHOOD POLICE CENTRE</td>\n      <td>1.04703</td>\n      <td>1</td>\n    </tr>\n    <tr>\n      <th>3</th>\n      <td>636 YISHUN ST 61</td>\n      <td>YISHUN SOUTH NEIGHBOURHOOD POLICE CENTRE</td>\n      <td>0.696971</td>\n      <td>2</td>\n    </tr>\n    <tr>\n      <th>4</th>\n      <td>258B COMPASSVALE RD</td>\n      <td>SENGKANG NEIGHBOURHOOD POLICE CENTRE</td>\n      <td>0.389549</td>\n      <td>1</td>\n    </tr>\n  </tbody>\n</table>\n</div>"
     },
     "metadata": {},
     "execution_count": 65
    }
   ],
   "source": [
    "nearest_npc = find_nearest(flat_coord, npc_coord)\n",
    "flat_npc = pd.DataFrame.from_dict(nearest_npc).T\n",
    "flat_npc = flat_npc.rename(columns={0: 'flat', 1: 'npc', 2: 'npc_dist', 3: 'num_npc_2km'}).reset_index().drop('index', axis=1)\n",
    "flat_npc.head()"
   ]
  },
  {
   "cell_type": "code",
   "execution_count": 66,
   "metadata": {},
   "outputs": [],
   "source": [
    "flat_npc.to_csv('./Data_coord/flat_npc.csv')"
   ]
  },
  {
   "source": [
    "## Merge All"
   ],
   "cell_type": "markdown",
   "metadata": {}
  },
  {
   "cell_type": "code",
   "execution_count": 71,
   "metadata": {},
   "outputs": [
    {
     "output_type": "execute_result",
     "data": {
      "text/plain": [
       "                  flat  school school_dist num_school_2km  \\\n",
       "0  106 WOODLANDS ST 13  739067    0.599142             18   \n",
       "1    213B PUNGGOL WALK  828772   0.0876203             40   \n",
       "2         8 EMPRESS RD  268097    0.575657              6   \n",
       "3     636 YISHUN ST 61  769026    0.234271             18   \n",
       "4  258B COMPASSVALE RD  545091    0.176495             44   \n",
       "\n",
       "                            hawker hawker_dist num_hawker_2km park_dist  \\\n",
       "0        Blks 20/21 Marsiling Lane    0.940258              2  0.311881   \n",
       "1       Kovan Market & Food Centre     4.80554              0   1.16783   \n",
       "2     Commonwealth Crescent Market     1.16977              5  0.305943   \n",
       "3  Chong Pang Market & Food Centre     1.77527              2   0.67212   \n",
       "4       Kovan Market & Food Centre     3.94541              0  0.720714   \n",
       "\n",
       "  num_park_2km            mall mall_dist num_mall_2km  \\\n",
       "0            4  Causeway Point   0.43555            6   \n",
       "1            3  Waterway Point  0.753017            6   \n",
       "2           12  The Star Vista   2.15634            0   \n",
       "3            5   Wisteria Mall  0.292174            3   \n",
       "4            3     Compass One  0.276868            7   \n",
       "\n",
       "                              mrt  mrt_dist num_mrt_2km supermarket_dist  \\\n",
       "0       UOB WOODLANDS MRT STATION  0.493527           9         0.523687   \n",
       "1      SOO TECK LRT STATION (PW7)  0.526115          31         0.355258   \n",
       "2  FARRER ROAD MRT STATION (CC20)  0.250424          21         0.968347   \n",
       "3          UOB KHATIB MRT STATION  0.737341           9         0.541394   \n",
       "4       OCBC SENGKANG MRT STATION  0.246773          31         0.263168   \n",
       "\n",
       "  num_supermarket_2km                                         npc  npc_dist  \\\n",
       "0                   8  WOODLANDS WEST NEIGHBOURHOOD POLICE CENTRE  0.520801   \n",
       "1                  20        SENGKANG NEIGHBOURHOOD POLICE CENTRE   1.01454   \n",
       "2                  15     BUKIT TIMAH NEIGHBOURHOOD POLICE CENTRE   1.04703   \n",
       "3                  16    YISHUN SOUTH NEIGHBOURHOOD POLICE CENTRE  0.696971   \n",
       "4                  19        SENGKANG NEIGHBOURHOOD POLICE CENTRE  0.389549   \n",
       "\n",
       "  num_npc_2km  \n",
       "0           1  \n",
       "1           1  \n",
       "2           1  \n",
       "3           2  \n",
       "4           1  "
      ],
      "text/html": "<div>\n<style scoped>\n    .dataframe tbody tr th:only-of-type {\n        vertical-align: middle;\n    }\n\n    .dataframe tbody tr th {\n        vertical-align: top;\n    }\n\n    .dataframe thead th {\n        text-align: right;\n    }\n</style>\n<table border=\"1\" class=\"dataframe\">\n  <thead>\n    <tr style=\"text-align: right;\">\n      <th></th>\n      <th>flat</th>\n      <th>school</th>\n      <th>school_dist</th>\n      <th>num_school_2km</th>\n      <th>hawker</th>\n      <th>hawker_dist</th>\n      <th>num_hawker_2km</th>\n      <th>park_dist</th>\n      <th>num_park_2km</th>\n      <th>mall</th>\n      <th>mall_dist</th>\n      <th>num_mall_2km</th>\n      <th>mrt</th>\n      <th>mrt_dist</th>\n      <th>num_mrt_2km</th>\n      <th>supermarket_dist</th>\n      <th>num_supermarket_2km</th>\n      <th>npc</th>\n      <th>npc_dist</th>\n      <th>num_npc_2km</th>\n    </tr>\n  </thead>\n  <tbody>\n    <tr>\n      <th>0</th>\n      <td>106 WOODLANDS ST 13</td>\n      <td>739067</td>\n      <td>0.599142</td>\n      <td>18</td>\n      <td>Blks 20/21 Marsiling Lane</td>\n      <td>0.940258</td>\n      <td>2</td>\n      <td>0.311881</td>\n      <td>4</td>\n      <td>Causeway Point</td>\n      <td>0.43555</td>\n      <td>6</td>\n      <td>UOB WOODLANDS MRT STATION</td>\n      <td>0.493527</td>\n      <td>9</td>\n      <td>0.523687</td>\n      <td>8</td>\n      <td>WOODLANDS WEST NEIGHBOURHOOD POLICE CENTRE</td>\n      <td>0.520801</td>\n      <td>1</td>\n    </tr>\n    <tr>\n      <th>1</th>\n      <td>213B PUNGGOL WALK</td>\n      <td>828772</td>\n      <td>0.0876203</td>\n      <td>40</td>\n      <td>Kovan Market &amp; Food Centre</td>\n      <td>4.80554</td>\n      <td>0</td>\n      <td>1.16783</td>\n      <td>3</td>\n      <td>Waterway Point</td>\n      <td>0.753017</td>\n      <td>6</td>\n      <td>SOO TECK LRT STATION (PW7)</td>\n      <td>0.526115</td>\n      <td>31</td>\n      <td>0.355258</td>\n      <td>20</td>\n      <td>SENGKANG NEIGHBOURHOOD POLICE CENTRE</td>\n      <td>1.01454</td>\n      <td>1</td>\n    </tr>\n    <tr>\n      <th>2</th>\n      <td>8 EMPRESS RD</td>\n      <td>268097</td>\n      <td>0.575657</td>\n      <td>6</td>\n      <td>Commonwealth Crescent Market</td>\n      <td>1.16977</td>\n      <td>5</td>\n      <td>0.305943</td>\n      <td>12</td>\n      <td>The Star Vista</td>\n      <td>2.15634</td>\n      <td>0</td>\n      <td>FARRER ROAD MRT STATION (CC20)</td>\n      <td>0.250424</td>\n      <td>21</td>\n      <td>0.968347</td>\n      <td>15</td>\n      <td>BUKIT TIMAH NEIGHBOURHOOD POLICE CENTRE</td>\n      <td>1.04703</td>\n      <td>1</td>\n    </tr>\n    <tr>\n      <th>3</th>\n      <td>636 YISHUN ST 61</td>\n      <td>769026</td>\n      <td>0.234271</td>\n      <td>18</td>\n      <td>Chong Pang Market &amp; Food Centre</td>\n      <td>1.77527</td>\n      <td>2</td>\n      <td>0.67212</td>\n      <td>5</td>\n      <td>Wisteria Mall</td>\n      <td>0.292174</td>\n      <td>3</td>\n      <td>UOB KHATIB MRT STATION</td>\n      <td>0.737341</td>\n      <td>9</td>\n      <td>0.541394</td>\n      <td>16</td>\n      <td>YISHUN SOUTH NEIGHBOURHOOD POLICE CENTRE</td>\n      <td>0.696971</td>\n      <td>2</td>\n    </tr>\n    <tr>\n      <th>4</th>\n      <td>258B COMPASSVALE RD</td>\n      <td>545091</td>\n      <td>0.176495</td>\n      <td>44</td>\n      <td>Kovan Market &amp; Food Centre</td>\n      <td>3.94541</td>\n      <td>0</td>\n      <td>0.720714</td>\n      <td>3</td>\n      <td>Compass One</td>\n      <td>0.276868</td>\n      <td>7</td>\n      <td>OCBC SENGKANG MRT STATION</td>\n      <td>0.246773</td>\n      <td>31</td>\n      <td>0.263168</td>\n      <td>19</td>\n      <td>SENGKANG NEIGHBOURHOOD POLICE CENTRE</td>\n      <td>0.389549</td>\n      <td>1</td>\n    </tr>\n  </tbody>\n</table>\n</div>"
     },
     "metadata": {},
     "execution_count": 71
    }
   ],
   "source": [
    "# flat_school = pd.read_csv('./Data_coord/flat_school.csv')\n",
    "# flat_hawker = pd.read_csv('./Data_coord/flat_hawker.csv')\n",
    "# flat_park = pd.read_csv('./Data_coord/flat_park.csv')\n",
    "# flat_mall = pd.read_csv('./Data_coord/flat_mall.csv')\n",
    "# flat_mrt = pd.read_csv('./Data_coord/flat_mrt.csv')\n",
    "# flat_supermarket = pd.read_csv('./Data_coord/flat_supermarket.csv')\n",
    "# flat_npc = pd.read_csv('./Data_coord/flat_npc.csv')\n",
    "## Merge all\n",
    "\n",
    "flat_amenities = flat_school.merge(flat_hawker, on='flat', how='outer')\n",
    "flat_amenities = flat_amenities.merge(flat_park, on='flat', how='outer')\n",
    "flat_amenities = flat_amenities.merge(flat_mall, on='flat', how='outer')\n",
    "flat_amenities = flat_amenities.merge(flat_mrt, on='flat', how='outer')\n",
    "flat_amenities = flat_amenities.merge(flat_supermarket, on='flat', how='outer')\n",
    "flat_amenities = flat_amenities.merge(flat_npc, on='flat', how='outer')\n",
    "\n",
    "flat_amenities.head()"
   ]
  },
  {
   "cell_type": "code",
   "execution_count": 72,
   "metadata": {},
   "outputs": [],
   "source": [
    "flat_amenities.to_csv('Data/flat_amenities.csv', index=False)"
   ]
  },
  {
   "cell_type": "code",
   "execution_count": 73,
   "metadata": {},
   "outputs": [
    {
     "output_type": "execute_result",
     "data": {
      "text/plain": [
       "                  flat  school  school_dist  num_school_2km  \\\n",
       "0  106 WOODLANDS ST 13  739067     0.599142              18   \n",
       "1    213B PUNGGOL WALK  828772     0.087620              40   \n",
       "2         8 EMPRESS RD  268097     0.575657               6   \n",
       "3     636 YISHUN ST 61  769026     0.234271              18   \n",
       "4  258B COMPASSVALE RD  545091     0.176495              44   \n",
       "\n",
       "                            hawker  hawker_dist  num_hawker_2km  park_dist  \\\n",
       "0        Blks 20/21 Marsiling Lane     0.940258               2   0.311881   \n",
       "1       Kovan Market & Food Centre     4.805537               0   1.167833   \n",
       "2     Commonwealth Crescent Market     1.169769               5   0.305943   \n",
       "3  Chong Pang Market & Food Centre     1.775271               2   0.672120   \n",
       "4       Kovan Market & Food Centre     3.945409               0   0.720714   \n",
       "\n",
       "   num_park_2km            mall  ...  num_mall_2km  \\\n",
       "0             4  Causeway Point  ...             6   \n",
       "1             3  Waterway Point  ...             6   \n",
       "2            12  The Star Vista  ...             0   \n",
       "3             5   Wisteria Mall  ...             3   \n",
       "4             3     Compass One  ...             7   \n",
       "\n",
       "                              mrt  mrt_dist  num_mrt_2km  supermarket_dist  \\\n",
       "0       UOB WOODLANDS MRT STATION  0.493527            9          0.523687   \n",
       "1      SOO TECK LRT STATION (PW7)  0.526115           31          0.355258   \n",
       "2  FARRER ROAD MRT STATION (CC20)  0.250424           21          0.968347   \n",
       "3          UOB KHATIB MRT STATION  0.737341            9          0.541394   \n",
       "4       OCBC SENGKANG MRT STATION  0.246773           31          0.263168   \n",
       "\n",
       "   num_supermarket_2km                                         npc  npc_dist  \\\n",
       "0                    8  WOODLANDS WEST NEIGHBOURHOOD POLICE CENTRE  0.520801   \n",
       "1                   20        SENGKANG NEIGHBOURHOOD POLICE CENTRE  1.014541   \n",
       "2                   15     BUKIT TIMAH NEIGHBOURHOOD POLICE CENTRE  1.047034   \n",
       "3                   16    YISHUN SOUTH NEIGHBOURHOOD POLICE CENTRE  0.696971   \n",
       "4                   19        SENGKANG NEIGHBOURHOOD POLICE CENTRE  0.389549   \n",
       "\n",
       "   num_npc_2km  dist_cityhall  \n",
       "0            1        17.6999  \n",
       "1            1        12.9458  \n",
       "2            1        5.84098  \n",
       "3            2         14.078  \n",
       "4            1        12.1065  \n",
       "\n",
       "[5 rows x 21 columns]"
      ],
      "text/html": "<div>\n<style scoped>\n    .dataframe tbody tr th:only-of-type {\n        vertical-align: middle;\n    }\n\n    .dataframe tbody tr th {\n        vertical-align: top;\n    }\n\n    .dataframe thead th {\n        text-align: right;\n    }\n</style>\n<table border=\"1\" class=\"dataframe\">\n  <thead>\n    <tr style=\"text-align: right;\">\n      <th></th>\n      <th>flat</th>\n      <th>school</th>\n      <th>school_dist</th>\n      <th>num_school_2km</th>\n      <th>hawker</th>\n      <th>hawker_dist</th>\n      <th>num_hawker_2km</th>\n      <th>park_dist</th>\n      <th>num_park_2km</th>\n      <th>mall</th>\n      <th>...</th>\n      <th>num_mall_2km</th>\n      <th>mrt</th>\n      <th>mrt_dist</th>\n      <th>num_mrt_2km</th>\n      <th>supermarket_dist</th>\n      <th>num_supermarket_2km</th>\n      <th>npc</th>\n      <th>npc_dist</th>\n      <th>num_npc_2km</th>\n      <th>dist_cityhall</th>\n    </tr>\n  </thead>\n  <tbody>\n    <tr>\n      <th>0</th>\n      <td>106 WOODLANDS ST 13</td>\n      <td>739067</td>\n      <td>0.599142</td>\n      <td>18</td>\n      <td>Blks 20/21 Marsiling Lane</td>\n      <td>0.940258</td>\n      <td>2</td>\n      <td>0.311881</td>\n      <td>4</td>\n      <td>Causeway Point</td>\n      <td>...</td>\n      <td>6</td>\n      <td>UOB WOODLANDS MRT STATION</td>\n      <td>0.493527</td>\n      <td>9</td>\n      <td>0.523687</td>\n      <td>8</td>\n      <td>WOODLANDS WEST NEIGHBOURHOOD POLICE CENTRE</td>\n      <td>0.520801</td>\n      <td>1</td>\n      <td>17.6999</td>\n    </tr>\n    <tr>\n      <th>1</th>\n      <td>213B PUNGGOL WALK</td>\n      <td>828772</td>\n      <td>0.087620</td>\n      <td>40</td>\n      <td>Kovan Market &amp; Food Centre</td>\n      <td>4.805537</td>\n      <td>0</td>\n      <td>1.167833</td>\n      <td>3</td>\n      <td>Waterway Point</td>\n      <td>...</td>\n      <td>6</td>\n      <td>SOO TECK LRT STATION (PW7)</td>\n      <td>0.526115</td>\n      <td>31</td>\n      <td>0.355258</td>\n      <td>20</td>\n      <td>SENGKANG NEIGHBOURHOOD POLICE CENTRE</td>\n      <td>1.014541</td>\n      <td>1</td>\n      <td>12.9458</td>\n    </tr>\n    <tr>\n      <th>2</th>\n      <td>8 EMPRESS RD</td>\n      <td>268097</td>\n      <td>0.575657</td>\n      <td>6</td>\n      <td>Commonwealth Crescent Market</td>\n      <td>1.169769</td>\n      <td>5</td>\n      <td>0.305943</td>\n      <td>12</td>\n      <td>The Star Vista</td>\n      <td>...</td>\n      <td>0</td>\n      <td>FARRER ROAD MRT STATION (CC20)</td>\n      <td>0.250424</td>\n      <td>21</td>\n      <td>0.968347</td>\n      <td>15</td>\n      <td>BUKIT TIMAH NEIGHBOURHOOD POLICE CENTRE</td>\n      <td>1.047034</td>\n      <td>1</td>\n      <td>5.84098</td>\n    </tr>\n    <tr>\n      <th>3</th>\n      <td>636 YISHUN ST 61</td>\n      <td>769026</td>\n      <td>0.234271</td>\n      <td>18</td>\n      <td>Chong Pang Market &amp; Food Centre</td>\n      <td>1.775271</td>\n      <td>2</td>\n      <td>0.672120</td>\n      <td>5</td>\n      <td>Wisteria Mall</td>\n      <td>...</td>\n      <td>3</td>\n      <td>UOB KHATIB MRT STATION</td>\n      <td>0.737341</td>\n      <td>9</td>\n      <td>0.541394</td>\n      <td>16</td>\n      <td>YISHUN SOUTH NEIGHBOURHOOD POLICE CENTRE</td>\n      <td>0.696971</td>\n      <td>2</td>\n      <td>14.078</td>\n    </tr>\n    <tr>\n      <th>4</th>\n      <td>258B COMPASSVALE RD</td>\n      <td>545091</td>\n      <td>0.176495</td>\n      <td>44</td>\n      <td>Kovan Market &amp; Food Centre</td>\n      <td>3.945409</td>\n      <td>0</td>\n      <td>0.720714</td>\n      <td>3</td>\n      <td>Compass One</td>\n      <td>...</td>\n      <td>7</td>\n      <td>OCBC SENGKANG MRT STATION</td>\n      <td>0.246773</td>\n      <td>31</td>\n      <td>0.263168</td>\n      <td>19</td>\n      <td>SENGKANG NEIGHBOURHOOD POLICE CENTRE</td>\n      <td>0.389549</td>\n      <td>1</td>\n      <td>12.1065</td>\n    </tr>\n  </tbody>\n</table>\n<p>5 rows × 21 columns</p>\n</div>"
     },
     "metadata": {},
     "execution_count": 73
    }
   ],
   "source": [
    "flat_amenities = pd.read_csv('Data/flat_amenities.csv')\n",
    "flat_amenities = flat_amenities.merge(dist_cityhall, on='flat', how='outer')\n",
    "flat_amenities.head()"
   ]
  },
  {
   "cell_type": "code",
   "execution_count": 74,
   "metadata": {},
   "outputs": [],
   "source": [
    "flat_amenities.to_csv('Data/flat_amenities.csv', index=False)"
   ]
  },
  {
   "cell_type": "code",
   "execution_count": null,
   "metadata": {},
   "outputs": [],
   "source": []
  }
 ]
}